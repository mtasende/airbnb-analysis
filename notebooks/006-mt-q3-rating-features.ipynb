{
 "cells": [
  {
   "cell_type": "markdown",
   "metadata": {},
   "source": [
    "# Q3) Where will I spend the best time? What are the most important features that affect the final rating?"
   ]
  },
  {
   "cell_type": "code",
   "execution_count": 1,
   "metadata": {
    "collapsed": true
   },
   "outputs": [],
   "source": [
    "import numpy as np\n",
    "import pandas as pd\n",
    "import lightgbm as lgb\n",
    "import os\n",
    "from jupyterthemes import jtplot\n",
    "from datetime import datetime\n",
    "import seaborn as sns\n",
    "\n",
    "import matplotlib.pyplot as plt\n",
    "%matplotlib inline\n",
    "jtplot.style(theme='solarizedd')\n",
    "plt.rcParams['figure.figsize'] = (20.0, 10.0)\n",
    "\n",
    "%load_ext autoreload\n",
    "%autoreload 2\n",
    "\n",
    "ROOT_DIR = '..'\n",
    "DATA_DIR = os.path.join(ROOT_DIR, 'data')\n",
    "DATA_RAW = os.path.join(DATA_DIR, 'raw')\n",
    "DATA_INTERIM = os.path.join(DATA_DIR, 'interim')\n",
    "DATA_EXTERNAL = os.path.join(DATA_DIR, 'external')\n",
    "\n",
    "SRC_DIR = os.path.join(ROOT_DIR, 'src')\n",
    "\n",
    "SEATTLE_LISTINGS_COLS = os.path.join(\n",
    "    DATA_INTERIM, 'seattle', 'listings_cols_df.pkl')\n",
    "\n",
    "import sys\n",
    "sys.path.append(SRC_DIR)\n",
    "sys.path.append(os.path.join(SRC_DIR, 'data'))\n",
    "\n",
    "import preprocessing as pp\n",
    "import missing_data as md\n",
    "import make_dataset"
   ]
  },
  {
   "cell_type": "code",
   "execution_count": 47,
   "metadata": {
    "collapsed": true
   },
   "outputs": [],
   "source": [
    "# If the dataset is already processed comment the line below\n",
    "# make_dataset.create_dataset()\n",
    "calendar, listings, reviews = make_dataset.load_processed()\n",
    "listings_cols_df = pd.read_pickle(SEATTLE_LISTINGS_COLS)"
   ]
  },
  {
   "cell_type": "code",
   "execution_count": 3,
   "metadata": {},
   "outputs": [
    {
     "data": {
      "text/html": [
       "<div>\n",
       "<style scoped>\n",
       "    .dataframe tbody tr th:only-of-type {\n",
       "        vertical-align: middle;\n",
       "    }\n",
       "\n",
       "    .dataframe tbody tr th {\n",
       "        vertical-align: top;\n",
       "    }\n",
       "\n",
       "    .dataframe thead th {\n",
       "        text-align: right;\n",
       "    }\n",
       "</style>\n",
       "<table border=\"1\" class=\"dataframe\">\n",
       "  <thead>\n",
       "    <tr style=\"text-align: right;\">\n",
       "      <th></th>\n",
       "      <th>id</th>\n",
       "      <th>listing_url</th>\n",
       "      <th>scrape_id</th>\n",
       "      <th>last_scraped</th>\n",
       "      <th>name</th>\n",
       "      <th>summary</th>\n",
       "      <th>space</th>\n",
       "      <th>description</th>\n",
       "      <th>experiences_offered</th>\n",
       "      <th>neighborhood_overview</th>\n",
       "      <th>...</th>\n",
       "      <th>calculated_host_listings_count</th>\n",
       "      <th>reviews_per_month</th>\n",
       "      <th>review_scores_rating_missing</th>\n",
       "      <th>review_scores_accuracy_missing</th>\n",
       "      <th>review_scores_cleanliness_missing</th>\n",
       "      <th>review_scores_checkin_missing</th>\n",
       "      <th>review_scores_communication_missing</th>\n",
       "      <th>review_scores_location_missing</th>\n",
       "      <th>review_scores_value_missing</th>\n",
       "      <th>reviews_per_month_missing</th>\n",
       "    </tr>\n",
       "  </thead>\n",
       "  <tbody>\n",
       "    <tr>\n",
       "      <th>0</th>\n",
       "      <td>241032</td>\n",
       "      <td>https://www.airbnb.com/rooms/241032</td>\n",
       "      <td>20160104002432</td>\n",
       "      <td>2016-01-04</td>\n",
       "      <td>Stylish Queen Anne Apartment</td>\n",
       "      <td></td>\n",
       "      <td>Make your self at home in this charming one-be...</td>\n",
       "      <td>Make your self at home in this charming one-be...</td>\n",
       "      <td>none</td>\n",
       "      <td></td>\n",
       "      <td>...</td>\n",
       "      <td>2</td>\n",
       "      <td>4.070000</td>\n",
       "      <td>0</td>\n",
       "      <td>0</td>\n",
       "      <td>0</td>\n",
       "      <td>0</td>\n",
       "      <td>0</td>\n",
       "      <td>0</td>\n",
       "      <td>0</td>\n",
       "      <td>0</td>\n",
       "    </tr>\n",
       "    <tr>\n",
       "      <th>1</th>\n",
       "      <td>953595</td>\n",
       "      <td>https://www.airbnb.com/rooms/953595</td>\n",
       "      <td>20160104002432</td>\n",
       "      <td>2016-01-04</td>\n",
       "      <td>Bright &amp; Airy Queen Anne Apartment</td>\n",
       "      <td>Chemically sensitive? We've removed the irrita...</td>\n",
       "      <td>Beautiful, hypoallergenic apartment in an extr...</td>\n",
       "      <td>Chemically sensitive? We've removed the irrita...</td>\n",
       "      <td>none</td>\n",
       "      <td>Queen Anne is a wonderful, truly functional vi...</td>\n",
       "      <td>...</td>\n",
       "      <td>6</td>\n",
       "      <td>1.480000</td>\n",
       "      <td>0</td>\n",
       "      <td>0</td>\n",
       "      <td>0</td>\n",
       "      <td>0</td>\n",
       "      <td>0</td>\n",
       "      <td>0</td>\n",
       "      <td>0</td>\n",
       "      <td>0</td>\n",
       "    </tr>\n",
       "    <tr>\n",
       "      <th>2</th>\n",
       "      <td>3308979</td>\n",
       "      <td>https://www.airbnb.com/rooms/3308979</td>\n",
       "      <td>20160104002432</td>\n",
       "      <td>2016-01-04</td>\n",
       "      <td>New Modern House-Amazing water view</td>\n",
       "      <td>New modern house built in 2013.  Spectacular s...</td>\n",
       "      <td>Our house is modern, light and fresh with a wa...</td>\n",
       "      <td>New modern house built in 2013.  Spectacular s...</td>\n",
       "      <td>none</td>\n",
       "      <td>Upper Queen Anne is a charming neighborhood fu...</td>\n",
       "      <td>...</td>\n",
       "      <td>2</td>\n",
       "      <td>1.150000</td>\n",
       "      <td>0</td>\n",
       "      <td>0</td>\n",
       "      <td>0</td>\n",
       "      <td>0</td>\n",
       "      <td>0</td>\n",
       "      <td>0</td>\n",
       "      <td>0</td>\n",
       "      <td>0</td>\n",
       "    </tr>\n",
       "    <tr>\n",
       "      <th>3</th>\n",
       "      <td>7421966</td>\n",
       "      <td>https://www.airbnb.com/rooms/7421966</td>\n",
       "      <td>20160104002432</td>\n",
       "      <td>2016-01-04</td>\n",
       "      <td>Queen Anne Chateau</td>\n",
       "      <td>A charming apartment that sits atop Queen Anne...</td>\n",
       "      <td></td>\n",
       "      <td>A charming apartment that sits atop Queen Anne...</td>\n",
       "      <td>none</td>\n",
       "      <td></td>\n",
       "      <td>...</td>\n",
       "      <td>1</td>\n",
       "      <td>2.078919</td>\n",
       "      <td>1</td>\n",
       "      <td>1</td>\n",
       "      <td>1</td>\n",
       "      <td>1</td>\n",
       "      <td>1</td>\n",
       "      <td>1</td>\n",
       "      <td>1</td>\n",
       "      <td>1</td>\n",
       "    </tr>\n",
       "    <tr>\n",
       "      <th>4</th>\n",
       "      <td>278830</td>\n",
       "      <td>https://www.airbnb.com/rooms/278830</td>\n",
       "      <td>20160104002432</td>\n",
       "      <td>2016-01-04</td>\n",
       "      <td>Charming craftsman 3 bdm house</td>\n",
       "      <td>Cozy family craftman house in beautiful neighb...</td>\n",
       "      <td>Cozy family craftman house in beautiful neighb...</td>\n",
       "      <td>Cozy family craftman house in beautiful neighb...</td>\n",
       "      <td>none</td>\n",
       "      <td>We are in the beautiful neighborhood of Queen ...</td>\n",
       "      <td>...</td>\n",
       "      <td>1</td>\n",
       "      <td>0.890000</td>\n",
       "      <td>0</td>\n",
       "      <td>0</td>\n",
       "      <td>0</td>\n",
       "      <td>0</td>\n",
       "      <td>0</td>\n",
       "      <td>0</td>\n",
       "      <td>0</td>\n",
       "      <td>0</td>\n",
       "    </tr>\n",
       "  </tbody>\n",
       "</table>\n",
       "<p>5 rows × 98 columns</p>\n",
       "</div>"
      ],
      "text/plain": [
       "        id                           listing_url       scrape_id last_scraped  \\\n",
       "0   241032   https://www.airbnb.com/rooms/241032  20160104002432   2016-01-04   \n",
       "1   953595   https://www.airbnb.com/rooms/953595  20160104002432   2016-01-04   \n",
       "2  3308979  https://www.airbnb.com/rooms/3308979  20160104002432   2016-01-04   \n",
       "3  7421966  https://www.airbnb.com/rooms/7421966  20160104002432   2016-01-04   \n",
       "4   278830   https://www.airbnb.com/rooms/278830  20160104002432   2016-01-04   \n",
       "\n",
       "                                  name  \\\n",
       "0         Stylish Queen Anne Apartment   \n",
       "1   Bright & Airy Queen Anne Apartment   \n",
       "2  New Modern House-Amazing water view   \n",
       "3                   Queen Anne Chateau   \n",
       "4       Charming craftsman 3 bdm house   \n",
       "\n",
       "                                             summary  \\\n",
       "0                                                      \n",
       "1  Chemically sensitive? We've removed the irrita...   \n",
       "2  New modern house built in 2013.  Spectacular s...   \n",
       "3  A charming apartment that sits atop Queen Anne...   \n",
       "4  Cozy family craftman house in beautiful neighb...   \n",
       "\n",
       "                                               space  \\\n",
       "0  Make your self at home in this charming one-be...   \n",
       "1  Beautiful, hypoallergenic apartment in an extr...   \n",
       "2  Our house is modern, light and fresh with a wa...   \n",
       "3                                                      \n",
       "4  Cozy family craftman house in beautiful neighb...   \n",
       "\n",
       "                                         description experiences_offered  \\\n",
       "0  Make your self at home in this charming one-be...                none   \n",
       "1  Chemically sensitive? We've removed the irrita...                none   \n",
       "2  New modern house built in 2013.  Spectacular s...                none   \n",
       "3  A charming apartment that sits atop Queen Anne...                none   \n",
       "4  Cozy family craftman house in beautiful neighb...                none   \n",
       "\n",
       "                               neighborhood_overview  \\\n",
       "0                                                      \n",
       "1  Queen Anne is a wonderful, truly functional vi...   \n",
       "2  Upper Queen Anne is a charming neighborhood fu...   \n",
       "3                                                      \n",
       "4  We are in the beautiful neighborhood of Queen ...   \n",
       "\n",
       "             ...            calculated_host_listings_count reviews_per_month  \\\n",
       "0            ...                                         2          4.070000   \n",
       "1            ...                                         6          1.480000   \n",
       "2            ...                                         2          1.150000   \n",
       "3            ...                                         1          2.078919   \n",
       "4            ...                                         1          0.890000   \n",
       "\n",
       "  review_scores_rating_missing review_scores_accuracy_missing  \\\n",
       "0                            0                              0   \n",
       "1                            0                              0   \n",
       "2                            0                              0   \n",
       "3                            1                              1   \n",
       "4                            0                              0   \n",
       "\n",
       "  review_scores_cleanliness_missing review_scores_checkin_missing  \\\n",
       "0                                 0                             0   \n",
       "1                                 0                             0   \n",
       "2                                 0                             0   \n",
       "3                                 1                             1   \n",
       "4                                 0                             0   \n",
       "\n",
       "   review_scores_communication_missing review_scores_location_missing  \\\n",
       "0                                    0                              0   \n",
       "1                                    0                              0   \n",
       "2                                    0                              0   \n",
       "3                                    1                              1   \n",
       "4                                    0                              0   \n",
       "\n",
       "  review_scores_value_missing reviews_per_month_missing  \n",
       "0                           0                         0  \n",
       "1                           0                         0  \n",
       "2                           0                         0  \n",
       "3                           1                         1  \n",
       "4                           0                         0  \n",
       "\n",
       "[5 rows x 98 columns]"
      ]
     },
     "execution_count": 3,
     "metadata": {},
     "output_type": "execute_result"
    }
   ],
   "source": [
    "listings.head()"
   ]
  },
  {
   "cell_type": "markdown",
   "metadata": {},
   "source": [
    "Let's drop the columns that have no relevant information (those like urls or internal technical information, and also those that have only one value or are duplicates). I will also throw the \"free text\" columns, as I won't take the time to process them."
   ]
  },
  {
   "cell_type": "code",
   "execution_count": 5,
   "metadata": {},
   "outputs": [
    {
     "data": {
      "text/plain": [
       "Index(['id', 'listing_url', 'scrape_id', 'last_scraped', 'name', 'summary',\n",
       "       'space', 'description', 'experiences_offered', 'neighborhood_overview',\n",
       "       'notes', 'transit', 'thumbnail_url', 'medium_url', 'picture_url',\n",
       "       'xl_picture_url', 'host_id', 'host_url', 'host_name', 'host_since',\n",
       "       'host_location', 'host_about', 'host_response_time',\n",
       "       'host_response_rate', 'host_acceptance_rate', 'host_is_superhost',\n",
       "       'host_thumbnail_url', 'host_picture_url', 'host_neighbourhood',\n",
       "       'host_listings_count', 'host_total_listings_count',\n",
       "       'host_verifications', 'host_has_profile_pic', 'host_identity_verified',\n",
       "       'street', 'neighbourhood', 'neighbourhood_cleansed',\n",
       "       'neighbourhood_group_cleansed', 'city', 'state', 'zipcode', 'market',\n",
       "       'smart_location', 'country_code', 'country', 'latitude', 'longitude',\n",
       "       'is_location_exact', 'property_type', 'room_type', 'accommodates',\n",
       "       'bathrooms', 'bedrooms', 'beds', 'bed_type', 'amenities', 'price',\n",
       "       'weekly_price', 'monthly_price', 'security_deposit', 'cleaning_fee',\n",
       "       'guests_included', 'extra_people', 'minimum_nights', 'maximum_nights',\n",
       "       'calendar_updated', 'has_availability', 'availability_30',\n",
       "       'availability_60', 'availability_90', 'availability_365',\n",
       "       'calendar_last_scraped', 'number_of_reviews', 'first_review',\n",
       "       'last_review', 'review_scores_rating', 'review_scores_accuracy',\n",
       "       'review_scores_cleanliness', 'review_scores_checkin',\n",
       "       'review_scores_communication', 'review_scores_location',\n",
       "       'review_scores_value', 'requires_license', 'jurisdiction_names',\n",
       "       'instant_bookable', 'cancellation_policy',\n",
       "       'require_guest_profile_picture', 'require_guest_phone_verification',\n",
       "       'calculated_host_listings_count', 'reviews_per_month',\n",
       "       'review_scores_rating_missing', 'review_scores_accuracy_missing',\n",
       "       'review_scores_cleanliness_missing', 'review_scores_checkin_missing',\n",
       "       'review_scores_communication_missing', 'review_scores_location_missing',\n",
       "       'review_scores_value_missing', 'reviews_per_month_missing'],\n",
       "      dtype='object')"
      ]
     },
     "execution_count": 5,
     "metadata": {},
     "output_type": "execute_result"
    }
   ],
   "source": [
    "listings.columns"
   ]
  },
  {
   "cell_type": "code",
   "execution_count": 7,
   "metadata": {},
   "outputs": [
    {
     "data": {
      "text/plain": [
       "array(['2016-01-04T00:00:00.000000000'], dtype='datetime64[ns]')"
      ]
     },
     "execution_count": 7,
     "metadata": {},
     "output_type": "execute_result"
    }
   ],
   "source": [
    "listings.last_scraped.unique()"
   ]
  },
  {
   "cell_type": "code",
   "execution_count": 13,
   "metadata": {},
   "outputs": [
    {
     "data": {
      "text/plain": [
       "array(['none'], dtype=object)"
      ]
     },
     "execution_count": 13,
     "metadata": {},
     "output_type": "execute_result"
    }
   ],
   "source": [
    "listings.experiences_offered.unique()"
   ]
  },
  {
   "cell_type": "code",
   "execution_count": 27,
   "metadata": {},
   "outputs": [],
   "source": [
    "interesting_cols = listings.columns.tolist()\n",
    "num_values = listings.apply(lambda x: x.unique().shape[0])\n",
    "unicols = listings.columns[num_values == 1].tolist()\n",
    "all_diff_cols = listings.columns[num_values == listings.shape[0]].tolist()"
   ]
  },
  {
   "cell_type": "code",
   "execution_count": 31,
   "metadata": {},
   "outputs": [
    {
     "data": {
      "text/plain": [
       "id             3816\n",
       "picture_url    3816\n",
       "longitude      3816\n",
       "latitude       3816\n",
       "listing_url    3816\n",
       "dtype: int64"
      ]
     },
     "execution_count": 31,
     "metadata": {},
     "output_type": "execute_result"
    }
   ],
   "source": [
    "num_values.sort_values(ascending=False).head()"
   ]
  },
  {
   "cell_type": "code",
   "execution_count": 32,
   "metadata": {},
   "outputs": [
    {
     "data": {
      "text/plain": [
       "['scrape_id',\n",
       " 'last_scraped',\n",
       " 'experiences_offered',\n",
       " 'market',\n",
       " 'country_code',\n",
       " 'country',\n",
       " 'has_availability',\n",
       " 'calendar_last_scraped',\n",
       " 'requires_license',\n",
       " 'jurisdiction_names']"
      ]
     },
     "execution_count": 32,
     "metadata": {},
     "output_type": "execute_result"
    }
   ],
   "source": [
    "unicols"
   ]
  },
  {
   "cell_type": "markdown",
   "metadata": {},
   "source": [
    "Let's remove the columns that have only one value"
   ]
  },
  {
   "cell_type": "code",
   "execution_count": 40,
   "metadata": {
    "collapsed": true
   },
   "outputs": [],
   "source": [
    "def remove_cols(x, minus):\n",
    "    return list(set(x) - set(minus))"
   ]
  },
  {
   "cell_type": "code",
   "execution_count": 41,
   "metadata": {},
   "outputs": [],
   "source": [
    "interesting_cols = remove_cols(interesting_cols, unicols)"
   ]
  },
  {
   "cell_type": "code",
   "execution_count": 38,
   "metadata": {},
   "outputs": [
    {
     "data": {
      "text/plain": [
       "['medium_url',\n",
       " 'xl_picture_url',\n",
       " 'host_url',\n",
       " 'listing_url',\n",
       " 'thumbnail_url',\n",
       " 'host_thumbnail_url',\n",
       " 'picture_url',\n",
       " 'host_picture_url']"
      ]
     },
     "execution_count": 38,
     "metadata": {},
     "output_type": "execute_result"
    }
   ],
   "source": [
    "import re\n",
    "\n",
    "url_cols = [re.match('.*_url', c).group(0) for c in interesting_cols\n",
    "            if re.match('.*_url', c) is not None]\n",
    "url_cols"
   ]
  },
  {
   "cell_type": "code",
   "execution_count": 42,
   "metadata": {
    "collapsed": true
   },
   "outputs": [],
   "source": [
    "interesting_cols = remove_cols(interesting_cols, url_cols)"
   ]
  },
  {
   "cell_type": "code",
   "execution_count": 43,
   "metadata": {},
   "outputs": [
    {
     "data": {
      "text/plain": [
       "['id', 'listing_url', 'picture_url', 'latitude', 'longitude']"
      ]
     },
     "execution_count": 43,
     "metadata": {},
     "output_type": "execute_result"
    }
   ],
   "source": [
    "all_diff_cols"
   ]
  },
  {
   "cell_type": "code",
   "execution_count": 45,
   "metadata": {},
   "outputs": [
    {
     "data": {
      "text/plain": [
       "80"
      ]
     },
     "execution_count": 45,
     "metadata": {},
     "output_type": "execute_result"
    }
   ],
   "source": [
    "len(interesting_cols)"
   ]
  },
  {
   "cell_type": "code",
   "execution_count": 51,
   "metadata": {},
   "outputs": [
    {
     "data": {
      "text/plain": [
       "['name',\n",
       " 'summary',\n",
       " 'space',\n",
       " 'description',\n",
       " 'neighborhood_overview',\n",
       " 'notes',\n",
       " 'transit',\n",
       " 'host_about',\n",
       " 'host_name']"
      ]
     },
     "execution_count": 51,
     "metadata": {},
     "output_type": "execute_result"
    }
   ],
   "source": [
    "free_text_cols = pp.get_column_by_kind(listings_cols_df, 'free_text_cols')\n",
    "free_text_cols"
   ]
  },
  {
   "cell_type": "code",
   "execution_count": 52,
   "metadata": {
    "collapsed": true
   },
   "outputs": [],
   "source": [
    "interesting_cols = remove_cols(interesting_cols, free_text_cols)"
   ]
  },
  {
   "cell_type": "code",
   "execution_count": 53,
   "metadata": {},
   "outputs": [
    {
     "data": {
      "text/plain": [
       "['neighbourhood_cleansed',\n",
       " 'review_scores_cleanliness_missing',\n",
       " 'number_of_reviews',\n",
       " 'id',\n",
       " 'is_location_exact',\n",
       " 'neighbourhood_group_cleansed',\n",
       " 'review_scores_rating_missing',\n",
       " 'bed_type',\n",
       " 'review_scores_accuracy',\n",
       " 'cancellation_policy',\n",
       " 'reviews_per_month',\n",
       " 'city',\n",
       " 'host_location',\n",
       " 'host_identity_verified',\n",
       " 'accommodates',\n",
       " 'price',\n",
       " 'host_verifications',\n",
       " 'guests_included',\n",
       " 'first_review',\n",
       " 'host_neighbourhood',\n",
       " 'extra_people',\n",
       " 'review_scores_communication',\n",
       " 'bathrooms',\n",
       " 'cleaning_fee',\n",
       " 'calculated_host_listings_count',\n",
       " 'host_has_profile_pic',\n",
       " 'host_id',\n",
       " 'security_deposit',\n",
       " 'host_response_rate',\n",
       " 'host_is_superhost',\n",
       " 'minimum_nights',\n",
       " 'latitude',\n",
       " 'longitude',\n",
       " 'calendar_updated',\n",
       " 'street',\n",
       " 'review_scores_value_missing',\n",
       " 'review_scores_checkin',\n",
       " 'availability_90',\n",
       " 'review_scores_location_missing',\n",
       " 'require_guest_profile_picture',\n",
       " 'review_scores_accuracy_missing',\n",
       " 'availability_30',\n",
       " 'bedrooms',\n",
       " 'weekly_price',\n",
       " 'review_scores_location',\n",
       " 'host_response_time',\n",
       " 'host_listings_count',\n",
       " 'review_scores_cleanliness',\n",
       " 'reviews_per_month_missing',\n",
       " 'availability_60',\n",
       " 'zipcode',\n",
       " 'maximum_nights',\n",
       " 'availability_365',\n",
       " 'require_guest_phone_verification',\n",
       " 'smart_location',\n",
       " 'neighbourhood',\n",
       " 'monthly_price',\n",
       " 'beds',\n",
       " 'review_scores_checkin_missing',\n",
       " 'review_scores_communication_missing',\n",
       " 'review_scores_value',\n",
       " 'review_scores_rating',\n",
       " 'room_type',\n",
       " 'host_since',\n",
       " 'instant_bookable',\n",
       " 'property_type',\n",
       " 'host_total_listings_count',\n",
       " 'state',\n",
       " 'host_acceptance_rate',\n",
       " 'last_review',\n",
       " 'amenities']"
      ]
     },
     "execution_count": 53,
     "metadata": {},
     "output_type": "execute_result"
    }
   ],
   "source": [
    "interesting_cols"
   ]
  },
  {
   "cell_type": "code",
   "execution_count": 158,
   "metadata": {},
   "outputs": [
    {
     "name": "stdout",
     "output_type": "stream",
     "text": [
      "(3816, 71)\n"
     ]
    },
    {
     "data": {
      "text/html": [
       "<div>\n",
       "<style scoped>\n",
       "    .dataframe tbody tr th:only-of-type {\n",
       "        vertical-align: middle;\n",
       "    }\n",
       "\n",
       "    .dataframe tbody tr th {\n",
       "        vertical-align: top;\n",
       "    }\n",
       "\n",
       "    .dataframe thead th {\n",
       "        text-align: right;\n",
       "    }\n",
       "</style>\n",
       "<table border=\"1\" class=\"dataframe\">\n",
       "  <thead>\n",
       "    <tr style=\"text-align: right;\">\n",
       "      <th></th>\n",
       "      <th>neighbourhood_cleansed</th>\n",
       "      <th>review_scores_cleanliness_missing</th>\n",
       "      <th>number_of_reviews</th>\n",
       "      <th>id</th>\n",
       "      <th>is_location_exact</th>\n",
       "      <th>neighbourhood_group_cleansed</th>\n",
       "      <th>review_scores_rating_missing</th>\n",
       "      <th>bed_type</th>\n",
       "      <th>review_scores_accuracy</th>\n",
       "      <th>cancellation_policy</th>\n",
       "      <th>...</th>\n",
       "      <th>review_scores_rating</th>\n",
       "      <th>room_type</th>\n",
       "      <th>host_since</th>\n",
       "      <th>instant_bookable</th>\n",
       "      <th>property_type</th>\n",
       "      <th>host_total_listings_count</th>\n",
       "      <th>state</th>\n",
       "      <th>host_acceptance_rate</th>\n",
       "      <th>last_review</th>\n",
       "      <th>amenities</th>\n",
       "    </tr>\n",
       "  </thead>\n",
       "  <tbody>\n",
       "    <tr>\n",
       "      <th>0</th>\n",
       "      <td>West Queen Anne</td>\n",
       "      <td>0</td>\n",
       "      <td>207</td>\n",
       "      <td>241032</td>\n",
       "      <td>True</td>\n",
       "      <td>Queen Anne</td>\n",
       "      <td>0</td>\n",
       "      <td>Real Bed</td>\n",
       "      <td>10.000000</td>\n",
       "      <td>moderate</td>\n",
       "      <td>...</td>\n",
       "      <td>95.000000</td>\n",
       "      <td>Entire home/apt</td>\n",
       "      <td>2011-08-11</td>\n",
       "      <td>False</td>\n",
       "      <td>Apartment</td>\n",
       "      <td>3.0</td>\n",
       "      <td>WA</td>\n",
       "      <td>100.000000</td>\n",
       "      <td>2016-01-02</td>\n",
       "      <td>{TV,\"Cable TV\",Internet,\"Wireless Internet\",\"A...</td>\n",
       "    </tr>\n",
       "    <tr>\n",
       "      <th>1</th>\n",
       "      <td>West Queen Anne</td>\n",
       "      <td>0</td>\n",
       "      <td>43</td>\n",
       "      <td>953595</td>\n",
       "      <td>True</td>\n",
       "      <td>Queen Anne</td>\n",
       "      <td>0</td>\n",
       "      <td>Real Bed</td>\n",
       "      <td>10.000000</td>\n",
       "      <td>strict</td>\n",
       "      <td>...</td>\n",
       "      <td>96.000000</td>\n",
       "      <td>Entire home/apt</td>\n",
       "      <td>2013-02-21</td>\n",
       "      <td>False</td>\n",
       "      <td>Apartment</td>\n",
       "      <td>6.0</td>\n",
       "      <td>WA</td>\n",
       "      <td>100.000000</td>\n",
       "      <td>2015-12-29</td>\n",
       "      <td>{TV,Internet,\"Wireless Internet\",Kitchen,\"Free...</td>\n",
       "    </tr>\n",
       "    <tr>\n",
       "      <th>2</th>\n",
       "      <td>West Queen Anne</td>\n",
       "      <td>0</td>\n",
       "      <td>20</td>\n",
       "      <td>3308979</td>\n",
       "      <td>True</td>\n",
       "      <td>Queen Anne</td>\n",
       "      <td>0</td>\n",
       "      <td>Real Bed</td>\n",
       "      <td>10.000000</td>\n",
       "      <td>strict</td>\n",
       "      <td>...</td>\n",
       "      <td>97.000000</td>\n",
       "      <td>Entire home/apt</td>\n",
       "      <td>2014-06-12</td>\n",
       "      <td>False</td>\n",
       "      <td>House</td>\n",
       "      <td>2.0</td>\n",
       "      <td>WA</td>\n",
       "      <td>100.000000</td>\n",
       "      <td>2015-09-03</td>\n",
       "      <td>{TV,\"Cable TV\",Internet,\"Wireless Internet\",\"A...</td>\n",
       "    </tr>\n",
       "    <tr>\n",
       "      <th>3</th>\n",
       "      <td>West Queen Anne</td>\n",
       "      <td>1</td>\n",
       "      <td>0</td>\n",
       "      <td>7421966</td>\n",
       "      <td>True</td>\n",
       "      <td>Queen Anne</td>\n",
       "      <td>1</td>\n",
       "      <td>Real Bed</td>\n",
       "      <td>9.636392</td>\n",
       "      <td>flexible</td>\n",
       "      <td>...</td>\n",
       "      <td>94.539262</td>\n",
       "      <td>Entire home/apt</td>\n",
       "      <td>2013-11-06</td>\n",
       "      <td>False</td>\n",
       "      <td>Apartment</td>\n",
       "      <td>1.0</td>\n",
       "      <td>WA</td>\n",
       "      <td>99.967159</td>\n",
       "      <td>2016-01-04</td>\n",
       "      <td>{Internet,\"Wireless Internet\",Kitchen,\"Indoor ...</td>\n",
       "    </tr>\n",
       "    <tr>\n",
       "      <th>4</th>\n",
       "      <td>West Queen Anne</td>\n",
       "      <td>0</td>\n",
       "      <td>38</td>\n",
       "      <td>278830</td>\n",
       "      <td>True</td>\n",
       "      <td>Queen Anne</td>\n",
       "      <td>0</td>\n",
       "      <td>Real Bed</td>\n",
       "      <td>9.000000</td>\n",
       "      <td>strict</td>\n",
       "      <td>...</td>\n",
       "      <td>92.000000</td>\n",
       "      <td>Entire home/apt</td>\n",
       "      <td>2011-11-29</td>\n",
       "      <td>False</td>\n",
       "      <td>House</td>\n",
       "      <td>2.0</td>\n",
       "      <td>WA</td>\n",
       "      <td>99.967159</td>\n",
       "      <td>2015-10-24</td>\n",
       "      <td>{TV,\"Cable TV\",Internet,\"Wireless Internet\",Ki...</td>\n",
       "    </tr>\n",
       "  </tbody>\n",
       "</table>\n",
       "<p>5 rows × 71 columns</p>\n",
       "</div>"
      ],
      "text/plain": [
       "  neighbourhood_cleansed  review_scores_cleanliness_missing  \\\n",
       "0        West Queen Anne                                  0   \n",
       "1        West Queen Anne                                  0   \n",
       "2        West Queen Anne                                  0   \n",
       "3        West Queen Anne                                  1   \n",
       "4        West Queen Anne                                  0   \n",
       "\n",
       "   number_of_reviews       id  is_location_exact neighbourhood_group_cleansed  \\\n",
       "0                207   241032               True                   Queen Anne   \n",
       "1                 43   953595               True                   Queen Anne   \n",
       "2                 20  3308979               True                   Queen Anne   \n",
       "3                  0  7421966               True                   Queen Anne   \n",
       "4                 38   278830               True                   Queen Anne   \n",
       "\n",
       "   review_scores_rating_missing  bed_type  review_scores_accuracy  \\\n",
       "0                             0  Real Bed               10.000000   \n",
       "1                             0  Real Bed               10.000000   \n",
       "2                             0  Real Bed               10.000000   \n",
       "3                             1  Real Bed                9.636392   \n",
       "4                             0  Real Bed                9.000000   \n",
       "\n",
       "  cancellation_policy                        ...                          \\\n",
       "0            moderate                        ...                           \n",
       "1              strict                        ...                           \n",
       "2              strict                        ...                           \n",
       "3            flexible                        ...                           \n",
       "4              strict                        ...                           \n",
       "\n",
       "   review_scores_rating        room_type host_since instant_bookable  \\\n",
       "0             95.000000  Entire home/apt 2011-08-11            False   \n",
       "1             96.000000  Entire home/apt 2013-02-21            False   \n",
       "2             97.000000  Entire home/apt 2014-06-12            False   \n",
       "3             94.539262  Entire home/apt 2013-11-06            False   \n",
       "4             92.000000  Entire home/apt 2011-11-29            False   \n",
       "\n",
       "   property_type  host_total_listings_count state  host_acceptance_rate  \\\n",
       "0      Apartment                        3.0    WA            100.000000   \n",
       "1      Apartment                        6.0    WA            100.000000   \n",
       "2          House                        2.0    WA            100.000000   \n",
       "3      Apartment                        1.0    WA             99.967159   \n",
       "4          House                        2.0    WA             99.967159   \n",
       "\n",
       "  last_review                                          amenities  \n",
       "0  2016-01-02  {TV,\"Cable TV\",Internet,\"Wireless Internet\",\"A...  \n",
       "1  2015-12-29  {TV,Internet,\"Wireless Internet\",Kitchen,\"Free...  \n",
       "2  2015-09-03  {TV,\"Cable TV\",Internet,\"Wireless Internet\",\"A...  \n",
       "3  2016-01-04  {Internet,\"Wireless Internet\",Kitchen,\"Indoor ...  \n",
       "4  2015-10-24  {TV,\"Cable TV\",Internet,\"Wireless Internet\",Ki...  \n",
       "\n",
       "[5 rows x 71 columns]"
      ]
     },
     "execution_count": 158,
     "metadata": {},
     "output_type": "execute_result"
    }
   ],
   "source": [
    "data = listings[interesting_cols]\n",
    "print(data.shape)\n",
    "data.head()"
   ]
  },
  {
   "cell_type": "markdown",
   "metadata": {},
   "source": [
    "Let's transform the columns that have lists of things"
   ]
  },
  {
   "cell_type": "code",
   "execution_count": 159,
   "metadata": {},
   "outputs": [
    {
     "data": {
      "text/plain": [
       "'{TV,\"Cable TV\",Internet,\"Wireless Internet\",\"Air Conditioning\",Kitchen,Heating,\"Family/Kid Friendly\",Washer,Dryer}'"
      ]
     },
     "execution_count": 159,
     "metadata": {},
     "output_type": "execute_result"
    }
   ],
   "source": [
    "data.amenities[0]"
   ]
  },
  {
   "cell_type": "code",
   "execution_count": 160,
   "metadata": {},
   "outputs": [
    {
     "data": {
      "text/plain": [
       "\"['email', 'phone', 'reviews', 'kba']\""
      ]
     },
     "execution_count": 160,
     "metadata": {},
     "output_type": "execute_result"
    }
   ],
   "source": [
    "data.host_verifications[0]"
   ]
  },
  {
   "cell_type": "code",
   "execution_count": 161,
   "metadata": {
    "collapsed": true
   },
   "outputs": [],
   "source": [
    "def str_to_list(text):\n",
    "    return text[1:-1].split(',')"
   ]
  },
  {
   "cell_type": "code",
   "execution_count": 162,
   "metadata": {
    "collapsed": true
   },
   "outputs": [],
   "source": [
    "def extract_list_items(series):\n",
    "    items = set()\n",
    "    for record in series:\n",
    "        items = items | set(str_to_list(record))\n",
    "    items = list(items)\n",
    "    items.remove('')\n",
    "    return items"
   ]
  },
  {
   "cell_type": "code",
   "execution_count": 163,
   "metadata": {},
   "outputs": [],
   "source": [
    "def str_to_ohe(text, col_series):\n",
    "    present = str_to_list(text)\n",
    "    return col_series.isin(present).astype(int).values"
   ]
  },
  {
   "cell_type": "code",
   "execution_count": 164,
   "metadata": {
    "collapsed": true
   },
   "outputs": [],
   "source": [
    "def series_to_ohe(series):\n",
    "    columns = extract_list_items(series)\n",
    "    ohe_data = np.vstack(series.apply(str_to_ohe, \n",
    "                                      col_series=pd.Series(columns)))\n",
    "    return pd.DataFrame(ohe_data, index=series.index, columns=columns)"
   ]
  },
  {
   "cell_type": "code",
   "execution_count": 221,
   "metadata": {},
   "outputs": [
    {
     "data": {
      "text/html": [
       "<div>\n",
       "<style scoped>\n",
       "    .dataframe tbody tr th:only-of-type {\n",
       "        vertical-align: middle;\n",
       "    }\n",
       "\n",
       "    .dataframe tbody tr th {\n",
       "        vertical-align: top;\n",
       "    }\n",
       "\n",
       "    .dataframe thead th {\n",
       "        text-align: right;\n",
       "    }\n",
       "</style>\n",
       "<table border=\"1\" class=\"dataframe\">\n",
       "  <thead>\n",
       "    <tr style=\"text-align: right;\">\n",
       "      <th></th>\n",
       "      <th>Washer</th>\n",
       "      <th>Breakfast</th>\n",
       "      <th>Internet</th>\n",
       "      <th>Iron</th>\n",
       "      <th>Pool</th>\n",
       "      <th>\"Laptop Friendly Workspace\"</th>\n",
       "      <th>\"Hair Dryer\"</th>\n",
       "      <th>Hangers</th>\n",
       "      <th>\"Elevator in Building\"</th>\n",
       "      <th>Heating</th>\n",
       "      <th>...</th>\n",
       "      <th>\"Wireless Internet\"</th>\n",
       "      <th>\"Smoking Allowed\"</th>\n",
       "      <th>\"Suitable for Events\"</th>\n",
       "      <th>\"First Aid Kit\"</th>\n",
       "      <th>\"Lock on Bedroom Door\"</th>\n",
       "      <th>TV</th>\n",
       "      <th>\"Pets live on this property\"</th>\n",
       "      <th>\"Hot Tub\"</th>\n",
       "      <th>\"Smoke Detector\"</th>\n",
       "      <th>\"Fire Extinguisher\"</th>\n",
       "    </tr>\n",
       "  </thead>\n",
       "  <tbody>\n",
       "    <tr>\n",
       "      <th>0</th>\n",
       "      <td>1</td>\n",
       "      <td>0</td>\n",
       "      <td>1</td>\n",
       "      <td>0</td>\n",
       "      <td>0</td>\n",
       "      <td>0</td>\n",
       "      <td>0</td>\n",
       "      <td>0</td>\n",
       "      <td>0</td>\n",
       "      <td>1</td>\n",
       "      <td>...</td>\n",
       "      <td>1</td>\n",
       "      <td>0</td>\n",
       "      <td>0</td>\n",
       "      <td>0</td>\n",
       "      <td>0</td>\n",
       "      <td>1</td>\n",
       "      <td>0</td>\n",
       "      <td>0</td>\n",
       "      <td>0</td>\n",
       "      <td>0</td>\n",
       "    </tr>\n",
       "    <tr>\n",
       "      <th>1</th>\n",
       "      <td>1</td>\n",
       "      <td>0</td>\n",
       "      <td>1</td>\n",
       "      <td>0</td>\n",
       "      <td>0</td>\n",
       "      <td>0</td>\n",
       "      <td>0</td>\n",
       "      <td>0</td>\n",
       "      <td>0</td>\n",
       "      <td>1</td>\n",
       "      <td>...</td>\n",
       "      <td>1</td>\n",
       "      <td>0</td>\n",
       "      <td>0</td>\n",
       "      <td>1</td>\n",
       "      <td>0</td>\n",
       "      <td>1</td>\n",
       "      <td>0</td>\n",
       "      <td>0</td>\n",
       "      <td>1</td>\n",
       "      <td>1</td>\n",
       "    </tr>\n",
       "    <tr>\n",
       "      <th>2</th>\n",
       "      <td>1</td>\n",
       "      <td>0</td>\n",
       "      <td>1</td>\n",
       "      <td>0</td>\n",
       "      <td>0</td>\n",
       "      <td>0</td>\n",
       "      <td>0</td>\n",
       "      <td>0</td>\n",
       "      <td>0</td>\n",
       "      <td>1</td>\n",
       "      <td>...</td>\n",
       "      <td>1</td>\n",
       "      <td>0</td>\n",
       "      <td>0</td>\n",
       "      <td>0</td>\n",
       "      <td>0</td>\n",
       "      <td>1</td>\n",
       "      <td>1</td>\n",
       "      <td>1</td>\n",
       "      <td>1</td>\n",
       "      <td>0</td>\n",
       "    </tr>\n",
       "    <tr>\n",
       "      <th>3</th>\n",
       "      <td>1</td>\n",
       "      <td>0</td>\n",
       "      <td>1</td>\n",
       "      <td>0</td>\n",
       "      <td>0</td>\n",
       "      <td>0</td>\n",
       "      <td>0</td>\n",
       "      <td>0</td>\n",
       "      <td>0</td>\n",
       "      <td>1</td>\n",
       "      <td>...</td>\n",
       "      <td>1</td>\n",
       "      <td>0</td>\n",
       "      <td>0</td>\n",
       "      <td>0</td>\n",
       "      <td>0</td>\n",
       "      <td>0</td>\n",
       "      <td>0</td>\n",
       "      <td>0</td>\n",
       "      <td>1</td>\n",
       "      <td>1</td>\n",
       "    </tr>\n",
       "    <tr>\n",
       "      <th>4</th>\n",
       "      <td>0</td>\n",
       "      <td>0</td>\n",
       "      <td>1</td>\n",
       "      <td>0</td>\n",
       "      <td>0</td>\n",
       "      <td>0</td>\n",
       "      <td>0</td>\n",
       "      <td>0</td>\n",
       "      <td>0</td>\n",
       "      <td>1</td>\n",
       "      <td>...</td>\n",
       "      <td>1</td>\n",
       "      <td>0</td>\n",
       "      <td>0</td>\n",
       "      <td>1</td>\n",
       "      <td>0</td>\n",
       "      <td>1</td>\n",
       "      <td>0</td>\n",
       "      <td>0</td>\n",
       "      <td>1</td>\n",
       "      <td>1</td>\n",
       "    </tr>\n",
       "  </tbody>\n",
       "</table>\n",
       "<p>5 rows × 41 columns</p>\n",
       "</div>"
      ],
      "text/plain": [
       "   Washer  Breakfast  Internet  Iron  Pool  \"Laptop Friendly Workspace\"  \\\n",
       "0       1          0         1     0     0                            0   \n",
       "1       1          0         1     0     0                            0   \n",
       "2       1          0         1     0     0                            0   \n",
       "3       1          0         1     0     0                            0   \n",
       "4       0          0         1     0     0                            0   \n",
       "\n",
       "   \"Hair Dryer\"  Hangers  \"Elevator in Building\"  Heating  \\\n",
       "0             0        0                       0        1   \n",
       "1             0        0                       0        1   \n",
       "2             0        0                       0        1   \n",
       "3             0        0                       0        1   \n",
       "4             0        0                       0        1   \n",
       "\n",
       "          ...           \"Wireless Internet\"  \"Smoking Allowed\"  \\\n",
       "0         ...                             1                  0   \n",
       "1         ...                             1                  0   \n",
       "2         ...                             1                  0   \n",
       "3         ...                             1                  0   \n",
       "4         ...                             1                  0   \n",
       "\n",
       "   \"Suitable for Events\"  \"First Aid Kit\"  \"Lock on Bedroom Door\"  TV  \\\n",
       "0                      0                0                       0   1   \n",
       "1                      0                1                       0   1   \n",
       "2                      0                0                       0   1   \n",
       "3                      0                0                       0   0   \n",
       "4                      0                1                       0   1   \n",
       "\n",
       "   \"Pets live on this property\"  \"Hot Tub\"  \"Smoke Detector\"  \\\n",
       "0                             0          0                 0   \n",
       "1                             0          0                 1   \n",
       "2                             1          1                 1   \n",
       "3                             0          0                 1   \n",
       "4                             0          0                 1   \n",
       "\n",
       "   \"Fire Extinguisher\"  \n",
       "0                    0  \n",
       "1                    1  \n",
       "2                    0  \n",
       "3                    1  \n",
       "4                    1  \n",
       "\n",
       "[5 rows x 41 columns]"
      ]
     },
     "execution_count": 221,
     "metadata": {},
     "output_type": "execute_result"
    }
   ],
   "source": [
    "series_to_ohe(data.amenities).head()"
   ]
  },
  {
   "cell_type": "code",
   "execution_count": 222,
   "metadata": {},
   "outputs": [
    {
     "data": {
      "text/html": [
       "<div>\n",
       "<style scoped>\n",
       "    .dataframe tbody tr th:only-of-type {\n",
       "        vertical-align: middle;\n",
       "    }\n",
       "\n",
       "    .dataframe tbody tr th {\n",
       "        vertical-align: top;\n",
       "    }\n",
       "\n",
       "    .dataframe thead th {\n",
       "        text-align: right;\n",
       "    }\n",
       "</style>\n",
       "<table border=\"1\" class=\"dataframe\">\n",
       "  <thead>\n",
       "    <tr style=\"text-align: right;\">\n",
       "      <th></th>\n",
       "      <th>'manual_online'</th>\n",
       "      <th>'reviews'</th>\n",
       "      <th>'facebook'</th>\n",
       "      <th>'reviews'</th>\n",
       "      <th>'manual_offline'</th>\n",
       "      <th>'google'</th>\n",
       "      <th>'photographer'</th>\n",
       "      <th>'email'</th>\n",
       "      <th>'phone'</th>\n",
       "      <th>'sent_id'</th>\n",
       "      <th>'google'</th>\n",
       "      <th>'jumio'</th>\n",
       "      <th>'weibo'</th>\n",
       "      <th>'linkedin'</th>\n",
       "      <th>'amex'</th>\n",
       "      <th>'kba'</th>\n",
       "      <th>'phone'</th>\n",
       "    </tr>\n",
       "  </thead>\n",
       "  <tbody>\n",
       "    <tr>\n",
       "      <th>0</th>\n",
       "      <td>0</td>\n",
       "      <td>0</td>\n",
       "      <td>0</td>\n",
       "      <td>1</td>\n",
       "      <td>0</td>\n",
       "      <td>0</td>\n",
       "      <td>0</td>\n",
       "      <td>1</td>\n",
       "      <td>1</td>\n",
       "      <td>0</td>\n",
       "      <td>0</td>\n",
       "      <td>0</td>\n",
       "      <td>0</td>\n",
       "      <td>0</td>\n",
       "      <td>0</td>\n",
       "      <td>1</td>\n",
       "      <td>0</td>\n",
       "    </tr>\n",
       "    <tr>\n",
       "      <th>1</th>\n",
       "      <td>0</td>\n",
       "      <td>0</td>\n",
       "      <td>1</td>\n",
       "      <td>1</td>\n",
       "      <td>0</td>\n",
       "      <td>0</td>\n",
       "      <td>0</td>\n",
       "      <td>1</td>\n",
       "      <td>1</td>\n",
       "      <td>0</td>\n",
       "      <td>0</td>\n",
       "      <td>1</td>\n",
       "      <td>0</td>\n",
       "      <td>1</td>\n",
       "      <td>0</td>\n",
       "      <td>0</td>\n",
       "      <td>0</td>\n",
       "    </tr>\n",
       "    <tr>\n",
       "      <th>2</th>\n",
       "      <td>0</td>\n",
       "      <td>0</td>\n",
       "      <td>0</td>\n",
       "      <td>1</td>\n",
       "      <td>0</td>\n",
       "      <td>0</td>\n",
       "      <td>0</td>\n",
       "      <td>1</td>\n",
       "      <td>1</td>\n",
       "      <td>0</td>\n",
       "      <td>1</td>\n",
       "      <td>1</td>\n",
       "      <td>0</td>\n",
       "      <td>0</td>\n",
       "      <td>0</td>\n",
       "      <td>0</td>\n",
       "      <td>0</td>\n",
       "    </tr>\n",
       "    <tr>\n",
       "      <th>3</th>\n",
       "      <td>0</td>\n",
       "      <td>0</td>\n",
       "      <td>1</td>\n",
       "      <td>1</td>\n",
       "      <td>0</td>\n",
       "      <td>0</td>\n",
       "      <td>0</td>\n",
       "      <td>1</td>\n",
       "      <td>1</td>\n",
       "      <td>0</td>\n",
       "      <td>0</td>\n",
       "      <td>1</td>\n",
       "      <td>0</td>\n",
       "      <td>0</td>\n",
       "      <td>0</td>\n",
       "      <td>0</td>\n",
       "      <td>0</td>\n",
       "    </tr>\n",
       "    <tr>\n",
       "      <th>4</th>\n",
       "      <td>0</td>\n",
       "      <td>0</td>\n",
       "      <td>1</td>\n",
       "      <td>1</td>\n",
       "      <td>0</td>\n",
       "      <td>0</td>\n",
       "      <td>0</td>\n",
       "      <td>1</td>\n",
       "      <td>1</td>\n",
       "      <td>0</td>\n",
       "      <td>0</td>\n",
       "      <td>0</td>\n",
       "      <td>0</td>\n",
       "      <td>0</td>\n",
       "      <td>0</td>\n",
       "      <td>1</td>\n",
       "      <td>0</td>\n",
       "    </tr>\n",
       "  </tbody>\n",
       "</table>\n",
       "</div>"
      ],
      "text/plain": [
       "    'manual_online'  'reviews'   'facebook'   'reviews'   'manual_offline'  \\\n",
       "0                 0          0            0           1                  0   \n",
       "1                 0          0            1           1                  0   \n",
       "2                 0          0            0           1                  0   \n",
       "3                 0          0            1           1                  0   \n",
       "4                 0          0            1           1                  0   \n",
       "\n",
       "   'google'   'photographer'  'email'   'phone'   'sent_id'   'google'  \\\n",
       "0         0                0        1         1           0          0   \n",
       "1         0                0        1         1           0          0   \n",
       "2         0                0        1         1           0          1   \n",
       "3         0                0        1         1           0          0   \n",
       "4         0                0        1         1           0          0   \n",
       "\n",
       "    'jumio'   'weibo'   'linkedin'   'amex'   'kba'  'phone'  \n",
       "0         0         0            0        0       1        0  \n",
       "1         1         0            1        0       0        0  \n",
       "2         1         0            0        0       0        0  \n",
       "3         1         0            0        0       0        0  \n",
       "4         0         0            0        0       1        0  "
      ]
     },
     "execution_count": 222,
     "metadata": {},
     "output_type": "execute_result"
    }
   ],
   "source": [
    "series_to_ohe(data.host_verifications).head()"
   ]
  },
  {
   "cell_type": "markdown",
   "metadata": {},
   "source": [
    "And let's divide the data into numeric and non-numeric"
   ]
  },
  {
   "cell_type": "code",
   "execution_count": 223,
   "metadata": {},
   "outputs": [
    {
     "data": {
      "text/plain": [
       "(3816, 71)"
      ]
     },
     "execution_count": 223,
     "metadata": {},
     "output_type": "execute_result"
    }
   ],
   "source": [
    "data.shape"
   ]
  },
  {
   "cell_type": "code",
   "execution_count": 224,
   "metadata": {},
   "outputs": [
    {
     "name": "stdout",
     "output_type": "stream",
     "text": [
      "(3816, 43)\n"
     ]
    },
    {
     "data": {
      "text/html": [
       "<div>\n",
       "<style scoped>\n",
       "    .dataframe tbody tr th:only-of-type {\n",
       "        vertical-align: middle;\n",
       "    }\n",
       "\n",
       "    .dataframe tbody tr th {\n",
       "        vertical-align: top;\n",
       "    }\n",
       "\n",
       "    .dataframe thead th {\n",
       "        text-align: right;\n",
       "    }\n",
       "</style>\n",
       "<table border=\"1\" class=\"dataframe\">\n",
       "  <thead>\n",
       "    <tr style=\"text-align: right;\">\n",
       "      <th></th>\n",
       "      <th>review_scores_cleanliness_missing</th>\n",
       "      <th>number_of_reviews</th>\n",
       "      <th>id</th>\n",
       "      <th>review_scores_rating_missing</th>\n",
       "      <th>review_scores_accuracy</th>\n",
       "      <th>reviews_per_month</th>\n",
       "      <th>accommodates</th>\n",
       "      <th>price</th>\n",
       "      <th>guests_included</th>\n",
       "      <th>extra_people</th>\n",
       "      <th>...</th>\n",
       "      <th>maximum_nights</th>\n",
       "      <th>availability_365</th>\n",
       "      <th>monthly_price</th>\n",
       "      <th>beds</th>\n",
       "      <th>review_scores_checkin_missing</th>\n",
       "      <th>review_scores_communication_missing</th>\n",
       "      <th>review_scores_value</th>\n",
       "      <th>review_scores_rating</th>\n",
       "      <th>host_total_listings_count</th>\n",
       "      <th>host_acceptance_rate</th>\n",
       "    </tr>\n",
       "  </thead>\n",
       "  <tbody>\n",
       "    <tr>\n",
       "      <th>0</th>\n",
       "      <td>0</td>\n",
       "      <td>207</td>\n",
       "      <td>241032</td>\n",
       "      <td>0</td>\n",
       "      <td>10.000000</td>\n",
       "      <td>4.070000</td>\n",
       "      <td>4</td>\n",
       "      <td>85.0</td>\n",
       "      <td>2</td>\n",
       "      <td>5.0</td>\n",
       "      <td>...</td>\n",
       "      <td>365</td>\n",
       "      <td>346</td>\n",
       "      <td>1887.055014</td>\n",
       "      <td>1.0</td>\n",
       "      <td>0</td>\n",
       "      <td>0</td>\n",
       "      <td>10.000000</td>\n",
       "      <td>95.000000</td>\n",
       "      <td>3.0</td>\n",
       "      <td>100.000000</td>\n",
       "    </tr>\n",
       "    <tr>\n",
       "      <th>1</th>\n",
       "      <td>0</td>\n",
       "      <td>43</td>\n",
       "      <td>953595</td>\n",
       "      <td>0</td>\n",
       "      <td>10.000000</td>\n",
       "      <td>1.480000</td>\n",
       "      <td>4</td>\n",
       "      <td>150.0</td>\n",
       "      <td>1</td>\n",
       "      <td>0.0</td>\n",
       "      <td>...</td>\n",
       "      <td>90</td>\n",
       "      <td>291</td>\n",
       "      <td>3000.000000</td>\n",
       "      <td>1.0</td>\n",
       "      <td>0</td>\n",
       "      <td>0</td>\n",
       "      <td>10.000000</td>\n",
       "      <td>96.000000</td>\n",
       "      <td>6.0</td>\n",
       "      <td>100.000000</td>\n",
       "    </tr>\n",
       "    <tr>\n",
       "      <th>2</th>\n",
       "      <td>0</td>\n",
       "      <td>20</td>\n",
       "      <td>3308979</td>\n",
       "      <td>0</td>\n",
       "      <td>10.000000</td>\n",
       "      <td>1.150000</td>\n",
       "      <td>11</td>\n",
       "      <td>975.0</td>\n",
       "      <td>10</td>\n",
       "      <td>25.0</td>\n",
       "      <td>...</td>\n",
       "      <td>30</td>\n",
       "      <td>220</td>\n",
       "      <td>21645.631046</td>\n",
       "      <td>7.0</td>\n",
       "      <td>0</td>\n",
       "      <td>0</td>\n",
       "      <td>10.000000</td>\n",
       "      <td>97.000000</td>\n",
       "      <td>2.0</td>\n",
       "      <td>100.000000</td>\n",
       "    </tr>\n",
       "    <tr>\n",
       "      <th>3</th>\n",
       "      <td>1</td>\n",
       "      <td>0</td>\n",
       "      <td>7421966</td>\n",
       "      <td>1</td>\n",
       "      <td>9.636392</td>\n",
       "      <td>2.078919</td>\n",
       "      <td>3</td>\n",
       "      <td>100.0</td>\n",
       "      <td>1</td>\n",
       "      <td>0.0</td>\n",
       "      <td>...</td>\n",
       "      <td>1125</td>\n",
       "      <td>143</td>\n",
       "      <td>2300.000000</td>\n",
       "      <td>2.0</td>\n",
       "      <td>1</td>\n",
       "      <td>1</td>\n",
       "      <td>9.452245</td>\n",
       "      <td>94.539262</td>\n",
       "      <td>1.0</td>\n",
       "      <td>99.967159</td>\n",
       "    </tr>\n",
       "    <tr>\n",
       "      <th>4</th>\n",
       "      <td>0</td>\n",
       "      <td>38</td>\n",
       "      <td>278830</td>\n",
       "      <td>0</td>\n",
       "      <td>9.000000</td>\n",
       "      <td>0.890000</td>\n",
       "      <td>6</td>\n",
       "      <td>450.0</td>\n",
       "      <td>6</td>\n",
       "      <td>15.0</td>\n",
       "      <td>...</td>\n",
       "      <td>1125</td>\n",
       "      <td>365</td>\n",
       "      <td>9990.291252</td>\n",
       "      <td>3.0</td>\n",
       "      <td>0</td>\n",
       "      <td>0</td>\n",
       "      <td>9.000000</td>\n",
       "      <td>92.000000</td>\n",
       "      <td>2.0</td>\n",
       "      <td>99.967159</td>\n",
       "    </tr>\n",
       "  </tbody>\n",
       "</table>\n",
       "<p>5 rows × 43 columns</p>\n",
       "</div>"
      ],
      "text/plain": [
       "   review_scores_cleanliness_missing  number_of_reviews       id  \\\n",
       "0                                  0                207   241032   \n",
       "1                                  0                 43   953595   \n",
       "2                                  0                 20  3308979   \n",
       "3                                  1                  0  7421966   \n",
       "4                                  0                 38   278830   \n",
       "\n",
       "   review_scores_rating_missing  review_scores_accuracy  reviews_per_month  \\\n",
       "0                             0               10.000000           4.070000   \n",
       "1                             0               10.000000           1.480000   \n",
       "2                             0               10.000000           1.150000   \n",
       "3                             1                9.636392           2.078919   \n",
       "4                             0                9.000000           0.890000   \n",
       "\n",
       "   accommodates  price  guests_included  extra_people          ...           \\\n",
       "0             4   85.0                2           5.0          ...            \n",
       "1             4  150.0                1           0.0          ...            \n",
       "2            11  975.0               10          25.0          ...            \n",
       "3             3  100.0                1           0.0          ...            \n",
       "4             6  450.0                6          15.0          ...            \n",
       "\n",
       "   maximum_nights  availability_365  monthly_price  beds  \\\n",
       "0             365               346    1887.055014   1.0   \n",
       "1              90               291    3000.000000   1.0   \n",
       "2              30               220   21645.631046   7.0   \n",
       "3            1125               143    2300.000000   2.0   \n",
       "4            1125               365    9990.291252   3.0   \n",
       "\n",
       "   review_scores_checkin_missing  review_scores_communication_missing  \\\n",
       "0                              0                                    0   \n",
       "1                              0                                    0   \n",
       "2                              0                                    0   \n",
       "3                              1                                    1   \n",
       "4                              0                                    0   \n",
       "\n",
       "   review_scores_value  review_scores_rating  host_total_listings_count  \\\n",
       "0            10.000000             95.000000                        3.0   \n",
       "1            10.000000             96.000000                        6.0   \n",
       "2            10.000000             97.000000                        2.0   \n",
       "3             9.452245             94.539262                        1.0   \n",
       "4             9.000000             92.000000                        2.0   \n",
       "\n",
       "   host_acceptance_rate  \n",
       "0            100.000000  \n",
       "1            100.000000  \n",
       "2            100.000000  \n",
       "3             99.967159  \n",
       "4             99.967159  \n",
       "\n",
       "[5 rows x 43 columns]"
      ]
     },
     "execution_count": 224,
     "metadata": {},
     "output_type": "execute_result"
    }
   ],
   "source": [
    "numeric = data.select_dtypes(['int', 'float'])\n",
    "print(numeric.shape)\n",
    "numeric.head()"
   ]
  },
  {
   "cell_type": "code",
   "execution_count": 225,
   "metadata": {},
   "outputs": [],
   "source": [
    "tf_cols = pp.get_column_by_kind(listings_cols_df, 'tf_cols')\n",
    "tf_cols.remove('has_availability')\n",
    "tf_cols.remove('requires_license')"
   ]
  },
  {
   "cell_type": "code",
   "execution_count": 226,
   "metadata": {},
   "outputs": [
    {
     "name": "stdout",
     "output_type": "stream",
     "text": [
      "(3816, 7)\n"
     ]
    },
    {
     "data": {
      "text/html": [
       "<div>\n",
       "<style scoped>\n",
       "    .dataframe tbody tr th:only-of-type {\n",
       "        vertical-align: middle;\n",
       "    }\n",
       "\n",
       "    .dataframe tbody tr th {\n",
       "        vertical-align: top;\n",
       "    }\n",
       "\n",
       "    .dataframe thead th {\n",
       "        text-align: right;\n",
       "    }\n",
       "</style>\n",
       "<table border=\"1\" class=\"dataframe\">\n",
       "  <thead>\n",
       "    <tr style=\"text-align: right;\">\n",
       "      <th></th>\n",
       "      <th>host_is_superhost</th>\n",
       "      <th>host_has_profile_pic</th>\n",
       "      <th>host_identity_verified</th>\n",
       "      <th>is_location_exact</th>\n",
       "      <th>instant_bookable</th>\n",
       "      <th>require_guest_profile_picture</th>\n",
       "      <th>require_guest_phone_verification</th>\n",
       "    </tr>\n",
       "  </thead>\n",
       "  <tbody>\n",
       "    <tr>\n",
       "      <th>0</th>\n",
       "      <td>False</td>\n",
       "      <td>True</td>\n",
       "      <td>True</td>\n",
       "      <td>True</td>\n",
       "      <td>False</td>\n",
       "      <td>False</td>\n",
       "      <td>False</td>\n",
       "    </tr>\n",
       "    <tr>\n",
       "      <th>1</th>\n",
       "      <td>True</td>\n",
       "      <td>True</td>\n",
       "      <td>True</td>\n",
       "      <td>True</td>\n",
       "      <td>False</td>\n",
       "      <td>True</td>\n",
       "      <td>True</td>\n",
       "    </tr>\n",
       "    <tr>\n",
       "      <th>2</th>\n",
       "      <td>False</td>\n",
       "      <td>True</td>\n",
       "      <td>True</td>\n",
       "      <td>True</td>\n",
       "      <td>False</td>\n",
       "      <td>False</td>\n",
       "      <td>False</td>\n",
       "    </tr>\n",
       "    <tr>\n",
       "      <th>3</th>\n",
       "      <td>False</td>\n",
       "      <td>True</td>\n",
       "      <td>True</td>\n",
       "      <td>True</td>\n",
       "      <td>False</td>\n",
       "      <td>False</td>\n",
       "      <td>False</td>\n",
       "    </tr>\n",
       "    <tr>\n",
       "      <th>4</th>\n",
       "      <td>False</td>\n",
       "      <td>True</td>\n",
       "      <td>True</td>\n",
       "      <td>True</td>\n",
       "      <td>False</td>\n",
       "      <td>False</td>\n",
       "      <td>False</td>\n",
       "    </tr>\n",
       "  </tbody>\n",
       "</table>\n",
       "</div>"
      ],
      "text/plain": [
       "  host_is_superhost host_has_profile_pic host_identity_verified  \\\n",
       "0             False                 True                   True   \n",
       "1              True                 True                   True   \n",
       "2             False                 True                   True   \n",
       "3             False                 True                   True   \n",
       "4             False                 True                   True   \n",
       "\n",
       "   is_location_exact  instant_bookable  require_guest_profile_picture  \\\n",
       "0               True             False                          False   \n",
       "1               True             False                           True   \n",
       "2               True             False                          False   \n",
       "3               True             False                          False   \n",
       "4               True             False                          False   \n",
       "\n",
       "   require_guest_phone_verification  \n",
       "0                             False  \n",
       "1                              True  \n",
       "2                             False  \n",
       "3                             False  \n",
       "4                             False  "
      ]
     },
     "execution_count": 226,
     "metadata": {},
     "output_type": "execute_result"
    }
   ],
   "source": [
    "bool_feats = data[tf_cols]\n",
    "print(bool_feats.shape)\n",
    "bool_feats.head()"
   ]
  },
  {
   "cell_type": "code",
   "execution_count": 227,
   "metadata": {},
   "outputs": [
    {
     "data": {
      "text/plain": [
       "(3816, 50)"
      ]
     },
     "execution_count": 227,
     "metadata": {},
     "output_type": "execute_result"
    }
   ],
   "source": [
    "numeric = numeric.join(bool_feats.astype('int'))\n",
    "numeric.shape"
   ]
  },
  {
   "cell_type": "code",
   "execution_count": 228,
   "metadata": {},
   "outputs": [
    {
     "name": "stdout",
     "output_type": "stream",
     "text": [
      "(3816, 21)\n"
     ]
    }
   ],
   "source": [
    "remaining = data.drop(numeric.columns, axis=1)\n",
    "print(remaining.shape)"
   ]
  },
  {
   "cell_type": "code",
   "execution_count": 229,
   "metadata": {
    "collapsed": true
   },
   "outputs": [],
   "source": [
    "amenities_ohe = series_to_ohe(data.amenities)\n",
    "host_verifications = series_to_ohe(data.host_verifications)\n",
    "remaining = remaining.drop(['amenities', 'host_verifications'], axis=1)"
   ]
  },
  {
   "cell_type": "code",
   "execution_count": 230,
   "metadata": {},
   "outputs": [
    {
     "name": "stdout",
     "output_type": "stream",
     "text": [
      "(3816, 19)\n"
     ]
    },
    {
     "data": {
      "text/html": [
       "<div>\n",
       "<style scoped>\n",
       "    .dataframe tbody tr th:only-of-type {\n",
       "        vertical-align: middle;\n",
       "    }\n",
       "\n",
       "    .dataframe tbody tr th {\n",
       "        vertical-align: top;\n",
       "    }\n",
       "\n",
       "    .dataframe thead th {\n",
       "        text-align: right;\n",
       "    }\n",
       "</style>\n",
       "<table border=\"1\" class=\"dataframe\">\n",
       "  <thead>\n",
       "    <tr style=\"text-align: right;\">\n",
       "      <th></th>\n",
       "      <th>neighbourhood_cleansed</th>\n",
       "      <th>neighbourhood_group_cleansed</th>\n",
       "      <th>bed_type</th>\n",
       "      <th>cancellation_policy</th>\n",
       "      <th>city</th>\n",
       "      <th>host_location</th>\n",
       "      <th>first_review</th>\n",
       "      <th>host_neighbourhood</th>\n",
       "      <th>calendar_updated</th>\n",
       "      <th>street</th>\n",
       "      <th>host_response_time</th>\n",
       "      <th>zipcode</th>\n",
       "      <th>smart_location</th>\n",
       "      <th>neighbourhood</th>\n",
       "      <th>room_type</th>\n",
       "      <th>host_since</th>\n",
       "      <th>property_type</th>\n",
       "      <th>state</th>\n",
       "      <th>last_review</th>\n",
       "    </tr>\n",
       "  </thead>\n",
       "  <tbody>\n",
       "    <tr>\n",
       "      <th>0</th>\n",
       "      <td>West Queen Anne</td>\n",
       "      <td>Queen Anne</td>\n",
       "      <td>Real Bed</td>\n",
       "      <td>moderate</td>\n",
       "      <td>Seattle</td>\n",
       "      <td>Seattle, Washington, United States</td>\n",
       "      <td>2011-11-01</td>\n",
       "      <td>Queen Anne</td>\n",
       "      <td>4 weeks ago</td>\n",
       "      <td>Gilman Dr W, Seattle, WA 98119, United States</td>\n",
       "      <td>within a few hours</td>\n",
       "      <td>98119</td>\n",
       "      <td>Seattle, WA</td>\n",
       "      <td>Queen Anne</td>\n",
       "      <td>Entire home/apt</td>\n",
       "      <td>2011-08-11</td>\n",
       "      <td>Apartment</td>\n",
       "      <td>WA</td>\n",
       "      <td>2016-01-02</td>\n",
       "    </tr>\n",
       "    <tr>\n",
       "      <th>1</th>\n",
       "      <td>West Queen Anne</td>\n",
       "      <td>Queen Anne</td>\n",
       "      <td>Real Bed</td>\n",
       "      <td>strict</td>\n",
       "      <td>Seattle</td>\n",
       "      <td>Seattle, Washington, United States</td>\n",
       "      <td>2013-08-19</td>\n",
       "      <td>Queen Anne</td>\n",
       "      <td>today</td>\n",
       "      <td>7th Avenue West, Seattle, WA 98119, United States</td>\n",
       "      <td>within an hour</td>\n",
       "      <td>98119</td>\n",
       "      <td>Seattle, WA</td>\n",
       "      <td>Queen Anne</td>\n",
       "      <td>Entire home/apt</td>\n",
       "      <td>2013-02-21</td>\n",
       "      <td>Apartment</td>\n",
       "      <td>WA</td>\n",
       "      <td>2015-12-29</td>\n",
       "    </tr>\n",
       "    <tr>\n",
       "      <th>2</th>\n",
       "      <td>West Queen Anne</td>\n",
       "      <td>Queen Anne</td>\n",
       "      <td>Real Bed</td>\n",
       "      <td>strict</td>\n",
       "      <td>Seattle</td>\n",
       "      <td>Seattle, Washington, United States</td>\n",
       "      <td>2014-07-30</td>\n",
       "      <td>Queen Anne</td>\n",
       "      <td>5 weeks ago</td>\n",
       "      <td>West Lee Street, Seattle, WA 98119, United States</td>\n",
       "      <td>within a few hours</td>\n",
       "      <td>98119</td>\n",
       "      <td>Seattle, WA</td>\n",
       "      <td>Queen Anne</td>\n",
       "      <td>Entire home/apt</td>\n",
       "      <td>2014-06-12</td>\n",
       "      <td>House</td>\n",
       "      <td>WA</td>\n",
       "      <td>2015-09-03</td>\n",
       "    </tr>\n",
       "    <tr>\n",
       "      <th>3</th>\n",
       "      <td>West Queen Anne</td>\n",
       "      <td>Queen Anne</td>\n",
       "      <td>Real Bed</td>\n",
       "      <td>flexible</td>\n",
       "      <td>Seattle</td>\n",
       "      <td>Seattle, Washington, United States</td>\n",
       "      <td>2016-01-04</td>\n",
       "      <td>Queen Anne</td>\n",
       "      <td>6 months ago</td>\n",
       "      <td>8th Avenue West, Seattle, WA 98119, United States</td>\n",
       "      <td>no data</td>\n",
       "      <td>98119</td>\n",
       "      <td>Seattle, WA</td>\n",
       "      <td>Queen Anne</td>\n",
       "      <td>Entire home/apt</td>\n",
       "      <td>2013-11-06</td>\n",
       "      <td>Apartment</td>\n",
       "      <td>WA</td>\n",
       "      <td>2016-01-04</td>\n",
       "    </tr>\n",
       "    <tr>\n",
       "      <th>4</th>\n",
       "      <td>West Queen Anne</td>\n",
       "      <td>Queen Anne</td>\n",
       "      <td>Real Bed</td>\n",
       "      <td>strict</td>\n",
       "      <td>Seattle</td>\n",
       "      <td>Seattle, Washington, United States</td>\n",
       "      <td>2012-07-10</td>\n",
       "      <td>Queen Anne</td>\n",
       "      <td>7 weeks ago</td>\n",
       "      <td>14th Ave W, Seattle, WA 98119, United States</td>\n",
       "      <td>within an hour</td>\n",
       "      <td>98119</td>\n",
       "      <td>Seattle, WA</td>\n",
       "      <td>Queen Anne</td>\n",
       "      <td>Entire home/apt</td>\n",
       "      <td>2011-11-29</td>\n",
       "      <td>House</td>\n",
       "      <td>WA</td>\n",
       "      <td>2015-10-24</td>\n",
       "    </tr>\n",
       "  </tbody>\n",
       "</table>\n",
       "</div>"
      ],
      "text/plain": [
       "  neighbourhood_cleansed neighbourhood_group_cleansed  bed_type  \\\n",
       "0        West Queen Anne                   Queen Anne  Real Bed   \n",
       "1        West Queen Anne                   Queen Anne  Real Bed   \n",
       "2        West Queen Anne                   Queen Anne  Real Bed   \n",
       "3        West Queen Anne                   Queen Anne  Real Bed   \n",
       "4        West Queen Anne                   Queen Anne  Real Bed   \n",
       "\n",
       "  cancellation_policy     city                       host_location  \\\n",
       "0            moderate  Seattle  Seattle, Washington, United States   \n",
       "1              strict  Seattle  Seattle, Washington, United States   \n",
       "2              strict  Seattle  Seattle, Washington, United States   \n",
       "3            flexible  Seattle  Seattle, Washington, United States   \n",
       "4              strict  Seattle  Seattle, Washington, United States   \n",
       "\n",
       "  first_review host_neighbourhood calendar_updated  \\\n",
       "0   2011-11-01         Queen Anne      4 weeks ago   \n",
       "1   2013-08-19         Queen Anne            today   \n",
       "2   2014-07-30         Queen Anne      5 weeks ago   \n",
       "3   2016-01-04         Queen Anne     6 months ago   \n",
       "4   2012-07-10         Queen Anne      7 weeks ago   \n",
       "\n",
       "                                              street  host_response_time  \\\n",
       "0      Gilman Dr W, Seattle, WA 98119, United States  within a few hours   \n",
       "1  7th Avenue West, Seattle, WA 98119, United States      within an hour   \n",
       "2  West Lee Street, Seattle, WA 98119, United States  within a few hours   \n",
       "3  8th Avenue West, Seattle, WA 98119, United States             no data   \n",
       "4       14th Ave W, Seattle, WA 98119, United States      within an hour   \n",
       "\n",
       "  zipcode smart_location neighbourhood        room_type host_since  \\\n",
       "0   98119    Seattle, WA    Queen Anne  Entire home/apt 2011-08-11   \n",
       "1   98119    Seattle, WA    Queen Anne  Entire home/apt 2013-02-21   \n",
       "2   98119    Seattle, WA    Queen Anne  Entire home/apt 2014-06-12   \n",
       "3   98119    Seattle, WA    Queen Anne  Entire home/apt 2013-11-06   \n",
       "4   98119    Seattle, WA    Queen Anne  Entire home/apt 2011-11-29   \n",
       "\n",
       "  property_type state last_review  \n",
       "0     Apartment    WA  2016-01-02  \n",
       "1     Apartment    WA  2015-12-29  \n",
       "2         House    WA  2015-09-03  \n",
       "3     Apartment    WA  2016-01-04  \n",
       "4         House    WA  2015-10-24  "
      ]
     },
     "execution_count": 230,
     "metadata": {},
     "output_type": "execute_result"
    }
   ],
   "source": [
    "print(remaining.shape)\n",
    "remaining.head()"
   ]
  },
  {
   "cell_type": "code",
   "execution_count": 231,
   "metadata": {},
   "outputs": [
    {
     "data": {
      "text/html": [
       "<div>\n",
       "<style scoped>\n",
       "    .dataframe tbody tr th:only-of-type {\n",
       "        vertical-align: middle;\n",
       "    }\n",
       "\n",
       "    .dataframe tbody tr th {\n",
       "        vertical-align: top;\n",
       "    }\n",
       "\n",
       "    .dataframe thead th {\n",
       "        text-align: right;\n",
       "    }\n",
       "</style>\n",
       "<table border=\"1\" class=\"dataframe\">\n",
       "  <thead>\n",
       "    <tr style=\"text-align: right;\">\n",
       "      <th></th>\n",
       "      <th>host_since</th>\n",
       "      <th>first_review</th>\n",
       "      <th>last_review</th>\n",
       "    </tr>\n",
       "  </thead>\n",
       "  <tbody>\n",
       "    <tr>\n",
       "      <th>0</th>\n",
       "      <td>2011-08-11</td>\n",
       "      <td>2011-11-01</td>\n",
       "      <td>2016-01-02</td>\n",
       "    </tr>\n",
       "    <tr>\n",
       "      <th>1</th>\n",
       "      <td>2013-02-21</td>\n",
       "      <td>2013-08-19</td>\n",
       "      <td>2015-12-29</td>\n",
       "    </tr>\n",
       "    <tr>\n",
       "      <th>2</th>\n",
       "      <td>2014-06-12</td>\n",
       "      <td>2014-07-30</td>\n",
       "      <td>2015-09-03</td>\n",
       "    </tr>\n",
       "    <tr>\n",
       "      <th>3</th>\n",
       "      <td>2013-11-06</td>\n",
       "      <td>2016-01-04</td>\n",
       "      <td>2016-01-04</td>\n",
       "    </tr>\n",
       "    <tr>\n",
       "      <th>4</th>\n",
       "      <td>2011-11-29</td>\n",
       "      <td>2012-07-10</td>\n",
       "      <td>2015-10-24</td>\n",
       "    </tr>\n",
       "  </tbody>\n",
       "</table>\n",
       "</div>"
      ],
      "text/plain": [
       "  host_since first_review last_review\n",
       "0 2011-08-11   2011-11-01  2016-01-02\n",
       "1 2013-02-21   2013-08-19  2015-12-29\n",
       "2 2014-06-12   2014-07-30  2015-09-03\n",
       "3 2013-11-06   2016-01-04  2016-01-04\n",
       "4 2011-11-29   2012-07-10  2015-10-24"
      ]
     },
     "execution_count": 231,
     "metadata": {},
     "output_type": "execute_result"
    }
   ],
   "source": [
    "date_cols = pp.get_column_by_kind(listings_cols_df, 'date_cols')\n",
    "date_cols.remove('last_scraped')\n",
    "date_cols.remove('calendar_last_scraped')\n",
    "dates = remaining[date_cols]\n",
    "dates.head()"
   ]
  },
  {
   "cell_type": "code",
   "execution_count": 232,
   "metadata": {},
   "outputs": [
    {
     "data": {
      "text/html": [
       "<div>\n",
       "<style scoped>\n",
       "    .dataframe tbody tr th:only-of-type {\n",
       "        vertical-align: middle;\n",
       "    }\n",
       "\n",
       "    .dataframe tbody tr th {\n",
       "        vertical-align: top;\n",
       "    }\n",
       "\n",
       "    .dataframe thead th {\n",
       "        text-align: right;\n",
       "    }\n",
       "</style>\n",
       "<table border=\"1\" class=\"dataframe\">\n",
       "  <thead>\n",
       "    <tr style=\"text-align: right;\">\n",
       "      <th></th>\n",
       "      <th>host_since</th>\n",
       "      <th>first_review</th>\n",
       "      <th>last_review</th>\n",
       "    </tr>\n",
       "  </thead>\n",
       "  <tbody>\n",
       "    <tr>\n",
       "      <th>0</th>\n",
       "      <td>86745600.0</td>\n",
       "      <td>93830400.0</td>\n",
       "      <td>225417600.0</td>\n",
       "    </tr>\n",
       "    <tr>\n",
       "      <th>1</th>\n",
       "      <td>135129600.0</td>\n",
       "      <td>150595200.0</td>\n",
       "      <td>225072000.0</td>\n",
       "    </tr>\n",
       "    <tr>\n",
       "      <th>2</th>\n",
       "      <td>176256000.0</td>\n",
       "      <td>180403200.0</td>\n",
       "      <td>214963200.0</td>\n",
       "    </tr>\n",
       "    <tr>\n",
       "      <th>3</th>\n",
       "      <td>157420800.0</td>\n",
       "      <td>225590400.0</td>\n",
       "      <td>225590400.0</td>\n",
       "    </tr>\n",
       "    <tr>\n",
       "      <th>4</th>\n",
       "      <td>96249600.0</td>\n",
       "      <td>115603200.0</td>\n",
       "      <td>219369600.0</td>\n",
       "    </tr>\n",
       "  </tbody>\n",
       "</table>\n",
       "</div>"
      ],
      "text/plain": [
       "    host_since  first_review  last_review\n",
       "0   86745600.0    93830400.0  225417600.0\n",
       "1  135129600.0   150595200.0  225072000.0\n",
       "2  176256000.0   180403200.0  214963200.0\n",
       "3  157420800.0   225590400.0  225590400.0\n",
       "4   96249600.0   115603200.0  219369600.0"
      ]
     },
     "execution_count": 232,
     "metadata": {},
     "output_type": "execute_result"
    }
   ],
   "source": [
    "dates = dates.apply(lambda x: x.apply(lambda x: x.timestamp()))\n",
    "dates = dates - dates.min().min()\n",
    "dates.head()"
   ]
  },
  {
   "cell_type": "code",
   "execution_count": 233,
   "metadata": {},
   "outputs": [
    {
     "name": "stdout",
     "output_type": "stream",
     "text": [
      "(3816, 16)\n"
     ]
    },
    {
     "data": {
      "text/html": [
       "<div>\n",
       "<style scoped>\n",
       "    .dataframe tbody tr th:only-of-type {\n",
       "        vertical-align: middle;\n",
       "    }\n",
       "\n",
       "    .dataframe tbody tr th {\n",
       "        vertical-align: top;\n",
       "    }\n",
       "\n",
       "    .dataframe thead th {\n",
       "        text-align: right;\n",
       "    }\n",
       "</style>\n",
       "<table border=\"1\" class=\"dataframe\">\n",
       "  <thead>\n",
       "    <tr style=\"text-align: right;\">\n",
       "      <th></th>\n",
       "      <th>neighbourhood_cleansed</th>\n",
       "      <th>neighbourhood_group_cleansed</th>\n",
       "      <th>bed_type</th>\n",
       "      <th>cancellation_policy</th>\n",
       "      <th>city</th>\n",
       "      <th>host_location</th>\n",
       "      <th>host_neighbourhood</th>\n",
       "      <th>calendar_updated</th>\n",
       "      <th>street</th>\n",
       "      <th>host_response_time</th>\n",
       "      <th>zipcode</th>\n",
       "      <th>smart_location</th>\n",
       "      <th>neighbourhood</th>\n",
       "      <th>room_type</th>\n",
       "      <th>property_type</th>\n",
       "      <th>state</th>\n",
       "    </tr>\n",
       "  </thead>\n",
       "  <tbody>\n",
       "    <tr>\n",
       "      <th>0</th>\n",
       "      <td>West Queen Anne</td>\n",
       "      <td>Queen Anne</td>\n",
       "      <td>Real Bed</td>\n",
       "      <td>moderate</td>\n",
       "      <td>Seattle</td>\n",
       "      <td>Seattle, Washington, United States</td>\n",
       "      <td>Queen Anne</td>\n",
       "      <td>4 weeks ago</td>\n",
       "      <td>Gilman Dr W, Seattle, WA 98119, United States</td>\n",
       "      <td>within a few hours</td>\n",
       "      <td>98119</td>\n",
       "      <td>Seattle, WA</td>\n",
       "      <td>Queen Anne</td>\n",
       "      <td>Entire home/apt</td>\n",
       "      <td>Apartment</td>\n",
       "      <td>WA</td>\n",
       "    </tr>\n",
       "    <tr>\n",
       "      <th>1</th>\n",
       "      <td>West Queen Anne</td>\n",
       "      <td>Queen Anne</td>\n",
       "      <td>Real Bed</td>\n",
       "      <td>strict</td>\n",
       "      <td>Seattle</td>\n",
       "      <td>Seattle, Washington, United States</td>\n",
       "      <td>Queen Anne</td>\n",
       "      <td>today</td>\n",
       "      <td>7th Avenue West, Seattle, WA 98119, United States</td>\n",
       "      <td>within an hour</td>\n",
       "      <td>98119</td>\n",
       "      <td>Seattle, WA</td>\n",
       "      <td>Queen Anne</td>\n",
       "      <td>Entire home/apt</td>\n",
       "      <td>Apartment</td>\n",
       "      <td>WA</td>\n",
       "    </tr>\n",
       "  </tbody>\n",
       "</table>\n",
       "</div>"
      ],
      "text/plain": [
       "  neighbourhood_cleansed neighbourhood_group_cleansed  bed_type  \\\n",
       "0        West Queen Anne                   Queen Anne  Real Bed   \n",
       "1        West Queen Anne                   Queen Anne  Real Bed   \n",
       "\n",
       "  cancellation_policy     city                       host_location  \\\n",
       "0            moderate  Seattle  Seattle, Washington, United States   \n",
       "1              strict  Seattle  Seattle, Washington, United States   \n",
       "\n",
       "  host_neighbourhood calendar_updated  \\\n",
       "0         Queen Anne      4 weeks ago   \n",
       "1         Queen Anne            today   \n",
       "\n",
       "                                              street  host_response_time  \\\n",
       "0      Gilman Dr W, Seattle, WA 98119, United States  within a few hours   \n",
       "1  7th Avenue West, Seattle, WA 98119, United States      within an hour   \n",
       "\n",
       "  zipcode smart_location neighbourhood        room_type property_type state  \n",
       "0   98119    Seattle, WA    Queen Anne  Entire home/apt     Apartment    WA  \n",
       "1   98119    Seattle, WA    Queen Anne  Entire home/apt     Apartment    WA  "
      ]
     },
     "execution_count": 233,
     "metadata": {},
     "output_type": "execute_result"
    }
   ],
   "source": [
    "remaining = remaining.drop(dates.columns, axis=1)\n",
    "print(remaining.shape)\n",
    "remaining.head(2)"
   ]
  },
  {
   "cell_type": "markdown",
   "metadata": {},
   "source": [
    "Let's drop the street feature, and look at the host_location"
   ]
  },
  {
   "cell_type": "code",
   "execution_count": 239,
   "metadata": {},
   "outputs": [
    {
     "data": {
      "text/plain": [
       "Seattle, Washington, United States                             3265\n",
       "US                                                              246\n",
       "Spokane, Washington, United States                               41\n",
       "Kent, Washington, United States                                  34\n",
       "Los Angeles, California, United States                           13\n",
       "Bellevue, Washington, United States                              12\n",
       "San Francisco, California, United States                         11\n",
       "Mercer Island, Washington, United States                         10\n",
       "Kirkland, Washington, United States                               8\n",
       "New York, New York, United States                                 6\n",
       "Seattle                                                           5\n",
       "Sammamish, Washington, United States                              5\n",
       "Shoreline, Washington, United States                              5\n",
       "Vashon, Washington, United States                                 5\n",
       "Seattle, Washington                                               4\n",
       "Tucson, Arizona, United States                                    4\n",
       "Portland, Oregon, United States                                   4\n",
       "San Diego, California, United States                              4\n",
       "Vancouver, Washington, United States                              4\n",
       "Issaquah, Washington, United States                               3\n",
       "Vancouver, British Columbia, Canada                               3\n",
       "Washington State, United States                                   3\n",
       "Palm Springs, California, United States                           3\n",
       "Blaine, Washington, United States                                 3\n",
       "Seattle/San Fransisco/Taipei                                      3\n",
       "San Francisco, California                                         3\n",
       "Montezuma,Costas Rica  and Seattle Wasington, United States       3\n",
       "Palo Alto, California, United States                              2\n",
       "Renton, Washington, United States                                 2\n",
       "Seattle, WA                                                       2\n",
       "                                                               ... \n",
       "Gosnold, Massachusetts, United States                             1\n",
       "Winston-Salem, North Carolina, United States                      1\n",
       "San Jose, California, United States                               1\n",
       "Toronto, Ontario, Canada                                          1\n",
       "Edmonds, Washington, United States                                1\n",
       "Massachusetts, United States                                      1\n",
       "West Seattle, Washington                                          1\n",
       "Bloomington, Indiana, United States                               1\n",
       "Dallas, Texas, United States                                      1\n",
       "Arlington, Massachusetts, United States                           1\n",
       "Newcastle, Washington, United States                              1\n",
       "Accra, Greater Accra, Ghana                                       1\n",
       "Greenbank, Washington, United States                              1\n",
       "Burien, Washington, United States                                 1\n",
       "Santa Monica, California, United States                           1\n",
       "Ault, Colorado, United States                                     1\n",
       "Grosse Pointe Farms, Michigan, United States                      1\n",
       "Grand Rapids, Michigan, United States                             1\n",
       "White Pine, Tennessee, United States                              1\n",
       "Cambridge, Massachusetts, United States                           1\n",
       "Port Townsend, Washington, United States                          1\n",
       "Ballard, Seattle, WA                                              1\n",
       "Breckenridge, Colorado, United States                             1\n",
       "Mount Vernon, Washington, United States                           1\n",
       "Vashon Island, Seattle, WA                                        1\n",
       "Camano Island                                                     1\n",
       "Santa Fe, New Mexico, United States                               1\n",
       "Redmond, Washington, United States                                1\n",
       "Bothell, Washington, United States                                1\n",
       "Lincoln, Vermont, United States                                   1\n",
       "Name: host_location, Length: 120, dtype: int64"
      ]
     },
     "execution_count": 239,
     "metadata": {},
     "output_type": "execute_result"
    }
   ],
   "source": [
    "remaining.host_location.value_counts()"
   ]
  },
  {
   "cell_type": "markdown",
   "metadata": {},
   "source": [
    "Too many locations, I think the feature would be \"Seattle or not Seattle\""
   ]
  },
  {
   "cell_type": "code",
   "execution_count": 241,
   "metadata": {},
   "outputs": [
    {
     "data": {
      "text/plain": [
       "0.8556079664570231"
      ]
     },
     "execution_count": 241,
     "metadata": {},
     "output_type": "execute_result"
    }
   ],
   "source": [
    "().mean()"
   ]
  },
  {
   "cell_type": "code",
   "execution_count": 245,
   "metadata": {},
   "outputs": [
    {
     "data": {
      "text/plain": [
       "0    1\n",
       "1    1\n",
       "2    1\n",
       "3    1\n",
       "4    1\n",
       "Name: host_location, dtype: int64"
      ]
     },
     "execution_count": 245,
     "metadata": {},
     "output_type": "execute_result"
    }
   ],
   "source": [
    "host_location = (remaining.host_location == \\\n",
    "                 'Seattle, Washington, United States').astype(int)\n",
    "host_location.head()"
   ]
  },
  {
   "cell_type": "code",
   "execution_count": 247,
   "metadata": {},
   "outputs": [
    {
     "data": {
      "text/plain": [
       "(3816, 14)"
      ]
     },
     "execution_count": 247,
     "metadata": {},
     "output_type": "execute_result"
    }
   ],
   "source": [
    "remaining = remaining.drop(['host_location', 'street'], axis=1)\n",
    "remaining.shape"
   ]
  },
  {
   "cell_type": "code",
   "execution_count": 250,
   "metadata": {},
   "outputs": [
    {
     "data": {
      "text/html": [
       "<div>\n",
       "<style scoped>\n",
       "    .dataframe tbody tr th:only-of-type {\n",
       "        vertical-align: middle;\n",
       "    }\n",
       "\n",
       "    .dataframe tbody tr th {\n",
       "        vertical-align: top;\n",
       "    }\n",
       "\n",
       "    .dataframe thead th {\n",
       "        text-align: right;\n",
       "    }\n",
       "</style>\n",
       "<table border=\"1\" class=\"dataframe\">\n",
       "  <thead>\n",
       "    <tr style=\"text-align: right;\">\n",
       "      <th></th>\n",
       "      <th>neighbourhood_cleansed</th>\n",
       "      <th>neighbourhood_group_cleansed</th>\n",
       "      <th>bed_type</th>\n",
       "      <th>cancellation_policy</th>\n",
       "      <th>city</th>\n",
       "      <th>host_neighbourhood</th>\n",
       "      <th>calendar_updated</th>\n",
       "      <th>host_response_time</th>\n",
       "      <th>zipcode</th>\n",
       "      <th>smart_location</th>\n",
       "      <th>neighbourhood</th>\n",
       "      <th>room_type</th>\n",
       "      <th>property_type</th>\n",
       "      <th>state</th>\n",
       "    </tr>\n",
       "  </thead>\n",
       "  <tbody>\n",
       "    <tr>\n",
       "      <th>count</th>\n",
       "      <td>3816</td>\n",
       "      <td>3816</td>\n",
       "      <td>3816</td>\n",
       "      <td>3816</td>\n",
       "      <td>3816</td>\n",
       "      <td>3816</td>\n",
       "      <td>3816</td>\n",
       "      <td>3816</td>\n",
       "      <td>3816</td>\n",
       "      <td>3816</td>\n",
       "      <td>3816</td>\n",
       "      <td>3816</td>\n",
       "      <td>3816</td>\n",
       "      <td>3816</td>\n",
       "    </tr>\n",
       "    <tr>\n",
       "      <th>unique</th>\n",
       "      <td>87</td>\n",
       "      <td>17</td>\n",
       "      <td>5</td>\n",
       "      <td>3</td>\n",
       "      <td>7</td>\n",
       "      <td>117</td>\n",
       "      <td>34</td>\n",
       "      <td>5</td>\n",
       "      <td>28</td>\n",
       "      <td>7</td>\n",
       "      <td>96</td>\n",
       "      <td>3</td>\n",
       "      <td>16</td>\n",
       "      <td>2</td>\n",
       "    </tr>\n",
       "    <tr>\n",
       "      <th>top</th>\n",
       "      <td>Broadway</td>\n",
       "      <td>Other neighborhoods</td>\n",
       "      <td>Real Bed</td>\n",
       "      <td>strict</td>\n",
       "      <td>Seattle</td>\n",
       "      <td>Capitol Hill</td>\n",
       "      <td>today</td>\n",
       "      <td>within an hour</td>\n",
       "      <td>98122</td>\n",
       "      <td>Seattle, WA</td>\n",
       "      <td>Capitol Hill</td>\n",
       "      <td>Entire home/apt</td>\n",
       "      <td>House</td>\n",
       "      <td>WA</td>\n",
       "    </tr>\n",
       "    <tr>\n",
       "      <th>freq</th>\n",
       "      <td>397</td>\n",
       "      <td>794</td>\n",
       "      <td>3655</td>\n",
       "      <td>1417</td>\n",
       "      <td>3808</td>\n",
       "      <td>405</td>\n",
       "      <td>706</td>\n",
       "      <td>1692</td>\n",
       "      <td>421</td>\n",
       "      <td>3808</td>\n",
       "      <td>351</td>\n",
       "      <td>2539</td>\n",
       "      <td>1734</td>\n",
       "      <td>3815</td>\n",
       "    </tr>\n",
       "  </tbody>\n",
       "</table>\n",
       "</div>"
      ],
      "text/plain": [
       "       neighbourhood_cleansed neighbourhood_group_cleansed  bed_type  \\\n",
       "count                    3816                         3816      3816   \n",
       "unique                     87                           17         5   \n",
       "top                  Broadway          Other neighborhoods  Real Bed   \n",
       "freq                      397                          794      3655   \n",
       "\n",
       "       cancellation_policy     city host_neighbourhood calendar_updated  \\\n",
       "count                 3816     3816               3816             3816   \n",
       "unique                   3        7                117               34   \n",
       "top                 strict  Seattle       Capitol Hill            today   \n",
       "freq                  1417     3808                405              706   \n",
       "\n",
       "       host_response_time zipcode smart_location neighbourhood  \\\n",
       "count                3816    3816           3816          3816   \n",
       "unique                  5      28              7            96   \n",
       "top        within an hour   98122    Seattle, WA  Capitol Hill   \n",
       "freq                 1692     421           3808           351   \n",
       "\n",
       "              room_type property_type state  \n",
       "count              3816          3816  3816  \n",
       "unique                3            16     2  \n",
       "top     Entire home/apt         House    WA  \n",
       "freq               2539          1734  3815  "
      ]
     },
     "execution_count": 250,
     "metadata": {},
     "output_type": "execute_result"
    }
   ],
   "source": [
    "remaining.describe()"
   ]
  },
  {
   "cell_type": "markdown",
   "metadata": {},
   "source": [
    "So, all the features seem to be reasonable for one hot encoding, except the neighbourhood ones. Those have too many unique values (would create too many features). In any case, I will use a decision tree based method, so the One-hot-encoding won't be necessary.\n",
    "\n",
    "Let's join all the features."
   ]
  },
  {
   "cell_type": "code",
   "execution_count": 252,
   "metadata": {
    "collapsed": true
   },
   "outputs": [],
   "source": [
    "from sklearn.preprocessing import LabelEncoder\n",
    "from collections import defaultdict"
   ]
  },
  {
   "cell_type": "code",
   "execution_count": 255,
   "metadata": {},
   "outputs": [],
   "source": [
    "def decode(df, encoders):\n",
    "    return df.apply(lambda x: encoders[x.name].inverse_transform(x))\n",
    "\n",
    "def encode(df, encoders, fit=False):\n",
    "    if fit:\n",
    "        return df.apply(lambda x: encoders[x.name].fit_transform(x))\n",
    "    else:\n",
    "        return df.apply(lambda x: encoders[x.name].transform(x))"
   ]
  },
  {
   "cell_type": "code",
   "execution_count": 256,
   "metadata": {},
   "outputs": [
    {
     "name": "stdout",
     "output_type": "stream",
     "text": [
      "(3816, 14)\n"
     ]
    },
    {
     "data": {
      "text/html": [
       "<div>\n",
       "<style scoped>\n",
       "    .dataframe tbody tr th:only-of-type {\n",
       "        vertical-align: middle;\n",
       "    }\n",
       "\n",
       "    .dataframe tbody tr th {\n",
       "        vertical-align: top;\n",
       "    }\n",
       "\n",
       "    .dataframe thead th {\n",
       "        text-align: right;\n",
       "    }\n",
       "</style>\n",
       "<table border=\"1\" class=\"dataframe\">\n",
       "  <thead>\n",
       "    <tr style=\"text-align: right;\">\n",
       "      <th></th>\n",
       "      <th>neighbourhood_cleansed</th>\n",
       "      <th>neighbourhood_group_cleansed</th>\n",
       "      <th>bed_type</th>\n",
       "      <th>cancellation_policy</th>\n",
       "      <th>city</th>\n",
       "      <th>host_neighbourhood</th>\n",
       "      <th>calendar_updated</th>\n",
       "      <th>host_response_time</th>\n",
       "      <th>zipcode</th>\n",
       "      <th>smart_location</th>\n",
       "      <th>neighbourhood</th>\n",
       "      <th>room_type</th>\n",
       "      <th>property_type</th>\n",
       "      <th>state</th>\n",
       "    </tr>\n",
       "  </thead>\n",
       "  <tbody>\n",
       "    <tr>\n",
       "      <th>0</th>\n",
       "      <td>81</td>\n",
       "      <td>12</td>\n",
       "      <td>4</td>\n",
       "      <td>1</td>\n",
       "      <td>2</td>\n",
       "      <td>87</td>\n",
       "      <td>19</td>\n",
       "      <td>3</td>\n",
       "      <td>15</td>\n",
       "      <td>3</td>\n",
       "      <td>68</td>\n",
       "      <td>0</td>\n",
       "      <td>0</td>\n",
       "      <td>0</td>\n",
       "    </tr>\n",
       "    <tr>\n",
       "      <th>1</th>\n",
       "      <td>81</td>\n",
       "      <td>12</td>\n",
       "      <td>4</td>\n",
       "      <td>2</td>\n",
       "      <td>2</td>\n",
       "      <td>87</td>\n",
       "      <td>32</td>\n",
       "      <td>4</td>\n",
       "      <td>15</td>\n",
       "      <td>3</td>\n",
       "      <td>68</td>\n",
       "      <td>0</td>\n",
       "      <td>0</td>\n",
       "      <td>0</td>\n",
       "    </tr>\n",
       "    <tr>\n",
       "      <th>2</th>\n",
       "      <td>81</td>\n",
       "      <td>12</td>\n",
       "      <td>4</td>\n",
       "      <td>2</td>\n",
       "      <td>2</td>\n",
       "      <td>87</td>\n",
       "      <td>22</td>\n",
       "      <td>3</td>\n",
       "      <td>15</td>\n",
       "      <td>3</td>\n",
       "      <td>68</td>\n",
       "      <td>0</td>\n",
       "      <td>9</td>\n",
       "      <td>0</td>\n",
       "    </tr>\n",
       "    <tr>\n",
       "      <th>3</th>\n",
       "      <td>81</td>\n",
       "      <td>12</td>\n",
       "      <td>4</td>\n",
       "      <td>0</td>\n",
       "      <td>2</td>\n",
       "      <td>87</td>\n",
       "      <td>24</td>\n",
       "      <td>1</td>\n",
       "      <td>15</td>\n",
       "      <td>3</td>\n",
       "      <td>68</td>\n",
       "      <td>0</td>\n",
       "      <td>0</td>\n",
       "      <td>0</td>\n",
       "    </tr>\n",
       "    <tr>\n",
       "      <th>4</th>\n",
       "      <td>81</td>\n",
       "      <td>12</td>\n",
       "      <td>4</td>\n",
       "      <td>2</td>\n",
       "      <td>2</td>\n",
       "      <td>87</td>\n",
       "      <td>27</td>\n",
       "      <td>4</td>\n",
       "      <td>15</td>\n",
       "      <td>3</td>\n",
       "      <td>68</td>\n",
       "      <td>0</td>\n",
       "      <td>9</td>\n",
       "      <td>0</td>\n",
       "    </tr>\n",
       "  </tbody>\n",
       "</table>\n",
       "</div>"
      ],
      "text/plain": [
       "   neighbourhood_cleansed  neighbourhood_group_cleansed  bed_type  \\\n",
       "0                      81                            12         4   \n",
       "1                      81                            12         4   \n",
       "2                      81                            12         4   \n",
       "3                      81                            12         4   \n",
       "4                      81                            12         4   \n",
       "\n",
       "   cancellation_policy  city  host_neighbourhood  calendar_updated  \\\n",
       "0                    1     2                  87                19   \n",
       "1                    2     2                  87                32   \n",
       "2                    2     2                  87                22   \n",
       "3                    0     2                  87                24   \n",
       "4                    2     2                  87                27   \n",
       "\n",
       "   host_response_time  zipcode  smart_location  neighbourhood  room_type  \\\n",
       "0                   3       15               3             68          0   \n",
       "1                   4       15               3             68          0   \n",
       "2                   3       15               3             68          0   \n",
       "3                   1       15               3             68          0   \n",
       "4                   4       15               3             68          0   \n",
       "\n",
       "   property_type  state  \n",
       "0              0      0  \n",
       "1              0      0  \n",
       "2              9      0  \n",
       "3              0      0  \n",
       "4              9      0  "
      ]
     },
     "execution_count": 256,
     "metadata": {},
     "output_type": "execute_result"
    }
   ],
   "source": [
    "encoders = defaultdict(LabelEncoder)\n",
    "cat_enc = encode(remaining, encoders, fit=True)\n",
    "print(cat_enc.shape)\n",
    "cat_enc.head()"
   ]
  },
  {
   "cell_type": "code",
   "execution_count": 257,
   "metadata": {},
   "outputs": [
    {
     "data": {
      "text/plain": [
       "defaultdict(sklearn.preprocessing.label.LabelEncoder,\n",
       "            {'neighbourhood_cleansed': LabelEncoder(),\n",
       "             'neighbourhood_group_cleansed': LabelEncoder(),\n",
       "             'bed_type': LabelEncoder(),\n",
       "             'cancellation_policy': LabelEncoder(),\n",
       "             'city': LabelEncoder(),\n",
       "             'host_neighbourhood': LabelEncoder(),\n",
       "             'calendar_updated': LabelEncoder(),\n",
       "             'host_response_time': LabelEncoder(),\n",
       "             'zipcode': LabelEncoder(),\n",
       "             'smart_location': LabelEncoder(),\n",
       "             'neighbourhood': LabelEncoder(),\n",
       "             'room_type': LabelEncoder(),\n",
       "             'property_type': LabelEncoder(),\n",
       "             'state': LabelEncoder()})"
      ]
     },
     "execution_count": 257,
     "metadata": {},
     "output_type": "execute_result"
    }
   ],
   "source": [
    "encoders"
   ]
  },
  {
   "cell_type": "markdown",
   "metadata": {},
   "source": [
    "Let's join them all"
   ]
  },
  {
   "cell_type": "code",
   "execution_count": 264,
   "metadata": {},
   "outputs": [
    {
     "name": "stdout",
     "output_type": "stream",
     "text": [
      "(3816, 125)\n"
     ]
    },
    {
     "data": {
      "text/html": [
       "<div>\n",
       "<style scoped>\n",
       "    .dataframe tbody tr th:only-of-type {\n",
       "        vertical-align: middle;\n",
       "    }\n",
       "\n",
       "    .dataframe tbody tr th {\n",
       "        vertical-align: top;\n",
       "    }\n",
       "\n",
       "    .dataframe thead th {\n",
       "        text-align: right;\n",
       "    }\n",
       "</style>\n",
       "<table border=\"1\" class=\"dataframe\">\n",
       "  <thead>\n",
       "    <tr style=\"text-align: right;\">\n",
       "      <th></th>\n",
       "      <th>review_scores_cleanliness_missing</th>\n",
       "      <th>number_of_reviews</th>\n",
       "      <th>id</th>\n",
       "      <th>review_scores_rating_missing</th>\n",
       "      <th>review_scores_accuracy</th>\n",
       "      <th>reviews_per_month</th>\n",
       "      <th>accommodates</th>\n",
       "      <th>price</th>\n",
       "      <th>guests_included</th>\n",
       "      <th>extra_people</th>\n",
       "      <th>...</th>\n",
       "      <th>city</th>\n",
       "      <th>host_neighbourhood</th>\n",
       "      <th>calendar_updated</th>\n",
       "      <th>host_response_time</th>\n",
       "      <th>zipcode</th>\n",
       "      <th>smart_location</th>\n",
       "      <th>neighbourhood</th>\n",
       "      <th>room_type</th>\n",
       "      <th>property_type</th>\n",
       "      <th>state</th>\n",
       "    </tr>\n",
       "  </thead>\n",
       "  <tbody>\n",
       "    <tr>\n",
       "      <th>0</th>\n",
       "      <td>0</td>\n",
       "      <td>207</td>\n",
       "      <td>241032</td>\n",
       "      <td>0</td>\n",
       "      <td>10.000000</td>\n",
       "      <td>4.070000</td>\n",
       "      <td>4</td>\n",
       "      <td>85.0</td>\n",
       "      <td>2</td>\n",
       "      <td>5.0</td>\n",
       "      <td>...</td>\n",
       "      <td>2</td>\n",
       "      <td>87</td>\n",
       "      <td>19</td>\n",
       "      <td>3</td>\n",
       "      <td>15</td>\n",
       "      <td>3</td>\n",
       "      <td>68</td>\n",
       "      <td>0</td>\n",
       "      <td>0</td>\n",
       "      <td>0</td>\n",
       "    </tr>\n",
       "    <tr>\n",
       "      <th>1</th>\n",
       "      <td>0</td>\n",
       "      <td>43</td>\n",
       "      <td>953595</td>\n",
       "      <td>0</td>\n",
       "      <td>10.000000</td>\n",
       "      <td>1.480000</td>\n",
       "      <td>4</td>\n",
       "      <td>150.0</td>\n",
       "      <td>1</td>\n",
       "      <td>0.0</td>\n",
       "      <td>...</td>\n",
       "      <td>2</td>\n",
       "      <td>87</td>\n",
       "      <td>32</td>\n",
       "      <td>4</td>\n",
       "      <td>15</td>\n",
       "      <td>3</td>\n",
       "      <td>68</td>\n",
       "      <td>0</td>\n",
       "      <td>0</td>\n",
       "      <td>0</td>\n",
       "    </tr>\n",
       "    <tr>\n",
       "      <th>2</th>\n",
       "      <td>0</td>\n",
       "      <td>20</td>\n",
       "      <td>3308979</td>\n",
       "      <td>0</td>\n",
       "      <td>10.000000</td>\n",
       "      <td>1.150000</td>\n",
       "      <td>11</td>\n",
       "      <td>975.0</td>\n",
       "      <td>10</td>\n",
       "      <td>25.0</td>\n",
       "      <td>...</td>\n",
       "      <td>2</td>\n",
       "      <td>87</td>\n",
       "      <td>22</td>\n",
       "      <td>3</td>\n",
       "      <td>15</td>\n",
       "      <td>3</td>\n",
       "      <td>68</td>\n",
       "      <td>0</td>\n",
       "      <td>9</td>\n",
       "      <td>0</td>\n",
       "    </tr>\n",
       "    <tr>\n",
       "      <th>3</th>\n",
       "      <td>1</td>\n",
       "      <td>0</td>\n",
       "      <td>7421966</td>\n",
       "      <td>1</td>\n",
       "      <td>9.636392</td>\n",
       "      <td>2.078919</td>\n",
       "      <td>3</td>\n",
       "      <td>100.0</td>\n",
       "      <td>1</td>\n",
       "      <td>0.0</td>\n",
       "      <td>...</td>\n",
       "      <td>2</td>\n",
       "      <td>87</td>\n",
       "      <td>24</td>\n",
       "      <td>1</td>\n",
       "      <td>15</td>\n",
       "      <td>3</td>\n",
       "      <td>68</td>\n",
       "      <td>0</td>\n",
       "      <td>0</td>\n",
       "      <td>0</td>\n",
       "    </tr>\n",
       "    <tr>\n",
       "      <th>4</th>\n",
       "      <td>0</td>\n",
       "      <td>38</td>\n",
       "      <td>278830</td>\n",
       "      <td>0</td>\n",
       "      <td>9.000000</td>\n",
       "      <td>0.890000</td>\n",
       "      <td>6</td>\n",
       "      <td>450.0</td>\n",
       "      <td>6</td>\n",
       "      <td>15.0</td>\n",
       "      <td>...</td>\n",
       "      <td>2</td>\n",
       "      <td>87</td>\n",
       "      <td>27</td>\n",
       "      <td>4</td>\n",
       "      <td>15</td>\n",
       "      <td>3</td>\n",
       "      <td>68</td>\n",
       "      <td>0</td>\n",
       "      <td>9</td>\n",
       "      <td>0</td>\n",
       "    </tr>\n",
       "  </tbody>\n",
       "</table>\n",
       "<p>5 rows × 125 columns</p>\n",
       "</div>"
      ],
      "text/plain": [
       "   review_scores_cleanliness_missing  number_of_reviews       id  \\\n",
       "0                                  0                207   241032   \n",
       "1                                  0                 43   953595   \n",
       "2                                  0                 20  3308979   \n",
       "3                                  1                  0  7421966   \n",
       "4                                  0                 38   278830   \n",
       "\n",
       "   review_scores_rating_missing  review_scores_accuracy  reviews_per_month  \\\n",
       "0                             0               10.000000           4.070000   \n",
       "1                             0               10.000000           1.480000   \n",
       "2                             0               10.000000           1.150000   \n",
       "3                             1                9.636392           2.078919   \n",
       "4                             0                9.000000           0.890000   \n",
       "\n",
       "   accommodates  price  guests_included  extra_people  ...    city  \\\n",
       "0             4   85.0                2           5.0  ...       2   \n",
       "1             4  150.0                1           0.0  ...       2   \n",
       "2            11  975.0               10          25.0  ...       2   \n",
       "3             3  100.0                1           0.0  ...       2   \n",
       "4             6  450.0                6          15.0  ...       2   \n",
       "\n",
       "   host_neighbourhood  calendar_updated  host_response_time  zipcode  \\\n",
       "0                  87                19                   3       15   \n",
       "1                  87                32                   4       15   \n",
       "2                  87                22                   3       15   \n",
       "3                  87                24                   1       15   \n",
       "4                  87                27                   4       15   \n",
       "\n",
       "   smart_location  neighbourhood  room_type  property_type  state  \n",
       "0               3             68          0              0      0  \n",
       "1               3             68          0              0      0  \n",
       "2               3             68          0              9      0  \n",
       "3               3             68          0              0      0  \n",
       "4               3             68          0              9      0  \n",
       "\n",
       "[5 rows x 125 columns]"
      ]
     },
     "execution_count": 264,
     "metadata": {},
     "output_type": "execute_result"
    }
   ],
   "source": [
    "feats_df = pd.concat([numeric,\n",
    "                      amenities_ohe,\n",
    "                      host_verifications,\n",
    "                      dates,\n",
    "                      cat_enc], axis=1)\n",
    "print(feats_df.shape)\n",
    "feats_df.head()"
   ]
  },
  {
   "cell_type": "markdown",
   "metadata": {},
   "source": [
    "## Let's fit some models"
   ]
  },
  {
   "cell_type": "code",
   "execution_count": 289,
   "metadata": {},
   "outputs": [],
   "source": [
    "from sklearn.cross_validation import train_test_split\n",
    "from sklearn.ensemble import RandomForestRegressor\n",
    "from sklearn.metrics import mean_squared_error as mse"
   ]
  },
  {
   "cell_type": "code",
   "execution_count": 271,
   "metadata": {},
   "outputs": [
    {
     "data": {
      "text/plain": [
       "['review_scores_cleanliness_missing',\n",
       " 'review_scores_rating_missing',\n",
       " 'review_scores_accuracy',\n",
       " 'review_scores_communication',\n",
       " 'review_scores_value_missing',\n",
       " 'review_scores_checkin',\n",
       " 'review_scores_location_missing',\n",
       " 'review_scores_accuracy_missing',\n",
       " 'review_scores_location',\n",
       " 'review_scores_cleanliness',\n",
       " 'review_scores_checkin_missing',\n",
       " 'review_scores_communication_missing',\n",
       " 'review_scores_value',\n",
       " 'review_scores_rating']"
      ]
     },
     "execution_count": 271,
     "metadata": {},
     "output_type": "execute_result"
    }
   ],
   "source": [
    "score_columns = feats_df.columns[\n",
    "    feats_df.columns.str.contains('score')].tolist()\n",
    "score_columns"
   ]
  },
  {
   "cell_type": "code",
   "execution_count": 282,
   "metadata": {},
   "outputs": [],
   "source": [
    "target = 'review_scores_rating'"
   ]
  },
  {
   "cell_type": "code",
   "execution_count": 301,
   "metadata": {},
   "outputs": [
    {
     "name": "stdout",
     "output_type": "stream",
     "text": [
      "Training error: 23.28660523625979\n",
      "Test error: 34.04566944813058\n"
     ]
    }
   ],
   "source": [
    "# Create the model\n",
    "model = RandomForestRegressor(n_estimators=1000, max_depth=6)\n",
    "\n",
    "# Get the data\n",
    "y = feats_df[target]\n",
    "X = feats_df.drop(score_columns, axis=1)  # Let's drop all the scores columns\n",
    "X = X.drop('id', axis=1)  # No dependency on the order\n",
    "\n",
    "# Split the data\n",
    "X_train, X_test, y_train, y_test = train_test_split(X, y, \n",
    "                                                    test_size=0.3, \n",
    "                                                    random_state=2018)\n",
    "\n",
    "# Train the model\n",
    "model.fit(X_train, y_train)\n",
    "\n",
    "# Predict and evaluate\n",
    "y_train_pred = model.predict(X_train)\n",
    "y_test_pred = model.predict(X_test)\n",
    "\n",
    "print('Training error: {}'.format(mse(y_train, y_train_pred)))\n",
    "print('Test error: {}'.format(mse(y_test, y_test_pred)))"
   ]
  },
  {
   "cell_type": "code",
   "execution_count": 303,
   "metadata": {},
   "outputs": [
    {
     "data": {
      "text/plain": [
       "<matplotlib.axes._subplots.AxesSubplot at 0x1a13d06898>"
      ]
     },
     "execution_count": 303,
     "metadata": {},
     "output_type": "execute_result"
    },
    {
     "data": {
      "image/png": "[encoded data removed]",
      "text/plain": [
       "<Figure size 432x288 with 1 Axes>"
      ]
     },
     "metadata": {},
     "output_type": "display_data"
    }
   ],
   "source": [
    "importances = pd.Series(model.feature_importances_, index=X.columns)\n",
    "importances.sort_values(ascending=False)[:15].plot('barh')"
   ]
  },
  {
   "cell_type": "markdown",
   "metadata": {},
   "source": [
    "Clearly, the most important features have to do with the host being a superhost, and the amount of listings the host have. The features related to the reviews are not very informing. The other very important features have to do with the location, availability and price. Nothing unexpected there."
   ]
  },
  {
   "cell_type": "markdown",
   "metadata": {},
   "source": [
    "Let's see how the amount of listings that the host has affects the ratings"
   ]
  },
  {
   "cell_type": "code",
   "execution_count": 339,
   "metadata": {},
   "outputs": [
    {
     "data": {
      "text/plain": [
       "<matplotlib.collections.PathCollection at 0x1a0e0f77f0>"
      ]
     },
     "execution_count": 339,
     "metadata": {},
     "output_type": "execute_result"
    },
    {
     "data": {
      "image/png": "[encoded data removed]",
      "text/plain": [
       "<Figure size 432x288 with 1 Axes>"
      ]
     },
     "metadata": {},
     "output_type": "display_data"
    }
   ],
   "source": [
    "xy = pd.concat(\n",
    "    [X.calculated_host_listings_count, y], axis=1).sort_values(\n",
    "    by='calculated_host_listings_count')\n",
    "plt.scatter(xy.calculated_host_listings_count, xy.review_scores_rating)"
   ]
  },
  {
   "cell_type": "code",
   "execution_count": 341,
   "metadata": {},
   "outputs": [
    {
     "data": {
      "text/plain": [
       "<matplotlib.axes._subplots.AxesSubplot at 0x1a10e76748>"
      ]
     },
     "execution_count": 341,
     "metadata": {},
     "output_type": "execute_result"
    },
    {
     "data": {
      "image/png": "[encoded data removed]",
      "text/plain": [
       "<Figure size 432x288 with 1 Axes>"
      ]
     },
     "metadata": {},
     "output_type": "display_data"
    }
   ],
   "source": [
    "sns.violinplot(xy.calculated_host_listings_count, xy.review_scores_rating)"
   ]
  },
  {
   "cell_type": "code",
   "execution_count": 360,
   "metadata": {},
   "outputs": [
    {
     "name": "stdout",
     "output_type": "stream",
     "text": [
      "a = 7.0528912549799925, b = -5.90561632120227\n"
     ]
    },
    {
     "data": {
      "image/png": "[encoded data removed]",
      "text/plain": [
       "<Figure size 432x288 with 1 Axes>"
      ]
     },
     "metadata": {},
     "output_type": "display_data"
    }
   ],
   "source": [
    "sns.boxplot(xy.calculated_host_listings_count, xy.review_scores_rating)\n",
    "show_polyfit(xy.calculated_host_listings_count, xy.review_scores_rating)"
   ]
  },
  {
   "cell_type": "code",
   "execution_count": 343,
   "metadata": {},
   "outputs": [
    {
     "data": {
      "text/plain": [
       "-0.20195436686006232"
      ]
     },
     "execution_count": 343,
     "metadata": {},
     "output_type": "execute_result"
    }
   ],
   "source": [
    "xy.corr().iloc[0,1]"
   ]
  },
  {
   "cell_type": "code",
   "execution_count": 381,
   "metadata": {
    "collapsed": true
   },
   "outputs": [],
   "source": [
    "def show_polyfit(x, y, pos=(8, 40)):\n",
    "    a, b = np.polyfit(x, y, deg=1)\n",
    "    xx = np.linspace(x.min(), x.max(), 100)\n",
    "    print('a = {}, b = {}'.format(a, b))\n",
    "    plt.plot(xx, a*xx + b, 'r')\n",
    "    plt.text(pos[0], pos[1], 'Slope = {}'.format(a))"
   ]
  },
  {
   "cell_type": "code",
   "execution_count": 382,
   "metadata": {},
   "outputs": [
    {
     "name": "stdout",
     "output_type": "stream",
     "text": [
      "a = 2.661479069058597, b = 25.867722968381894\n"
     ]
    },
    {
     "data": {
      "image/png": "[encoded data removed]",
      "text/plain": [
       "<Figure size 432x288 with 1 Axes>"
      ]
     },
     "metadata": {},
     "output_type": "display_data"
    }
   ],
   "source": [
    "plt.scatter(xy.calculated_host_listings_count, xy.review_scores_rating)\n",
    "plt.xlabel('Number of listings of the host')\n",
    "plt.ylabel('Rating')\n",
    "plt.title('Overall rating')\n",
    "show_polyfit(xy.calculated_host_listings_count, xy.review_scores_rating)"
   ]
  },
  {
   "cell_type": "code",
   "execution_count": 392,
   "metadata": {},
   "outputs": [
    {
     "name": "stderr",
     "output_type": "stream",
     "text": [
      "/Users/antelinvestigacionydesarrollo/anaconda3/envs/data/lib/python3.6/site-packages/ipykernel_launcher.py:4: FutureWarning: `rcond` parameter will change to the default of machine precision times ``max(M, N)`` where M and N are the input matrix dimensions.\n",
      "To use the future default and silence this warning we advise to pass `rcond=None`, to keep using the old, explicitly pass `rcond=-1`.\n",
      "  after removing the cwd from sys.path.\n"
     ]
    },
    {
     "data": {
      "text/plain": [
       "(array([-0.05589808,  0.01678145]),\n",
       " array([165683.94085627]),\n",
       " 2,\n",
       " array([103.82210888,   0.84014642]))"
      ]
     },
     "execution_count": 392,
     "metadata": {},
     "output_type": "execute_result"
    }
   ],
   "source": [
    "x = xy.iloc[:,0].values\n",
    "A = np.vstack([x, np.ones(len(x))]).T\n",
    "y = xy.iloc[:,0].values\n",
    "np.linalg.lstsq(A, y)"
   ]
  },
  {
   "cell_type": "code",
   "execution_count": 386,
   "metadata": {},
   "outputs": [
    {
     "data": {
      "text/plain": [
       "array([[ 1],\n",
       "       [ 1],\n",
       "       [ 1],\n",
       "       ...,\n",
       "       [37],\n",
       "       [37],\n",
       "       [37]])"
      ]
     },
     "execution_count": 386,
     "metadata": {},
     "output_type": "execute_result"
    }
   ],
   "source": []
  },
  {
   "cell_type": "code",
   "execution_count": null,
   "metadata": {
    "collapsed": true
   },
   "outputs": [],
   "source": []
  }
 ],
 "metadata": {
  "kernelspec": {
   "display_name": "data",
   "language": "python",
   "name": "data"
  },
  "language_info": {
   "codemirror_mode": {
    "name": "ipython",
    "version": 3
   },
   "file_extension": ".py",
   "mimetype": "text/x-python",
   "name": "python",
   "nbconvert_exporter": "python",
   "pygments_lexer": "ipython3",
   "version": "3.6.5"
  }
 },
 "nbformat": 4,
 "nbformat_minor": 2
}
