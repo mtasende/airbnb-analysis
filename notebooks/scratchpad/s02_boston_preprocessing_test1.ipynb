{
 "cells": [
  {
   "cell_type": "code",
   "execution_count": 4,
   "metadata": {},
   "outputs": [
    {
     "name": "stdout",
     "output_type": "stream",
     "text": [
      "The autoreload extension is already loaded. To reload it, use:\n",
      "  %reload_ext autoreload\n"
     ]
    }
   ],
   "source": [
    "import numpy as np\n",
    "import pandas as pd\n",
    "import lightgbm as lgb\n",
    "import os\n",
    "from jupyterthemes import jtplot\n",
    "from datetime import datetime\n",
    "import seaborn as sns\n",
    "\n",
    "import matplotlib.pyplot as plt\n",
    "%matplotlib inline\n",
    "jtplot.style(theme='solarizedd')\n",
    "plt.rcParams['figure.figsize'] = (20.0, 10.0)\n",
    "\n",
    "%load_ext autoreload\n",
    "%autoreload 2\n",
    "\n",
    "ROOT_DIR = '../..'\n",
    "DATA_DIR = os.path.join(ROOT_DIR, 'data')\n",
    "DATA_RAW = os.path.join(DATA_DIR, 'raw')\n",
    "DATA_INTERIM = os.path.join(DATA_DIR, 'interim')\n",
    "DATA_EXTERNAL = os.path.join(DATA_DIR, 'external')\n",
    "\n",
    "SRC_DIR = os.path.join(ROOT_DIR, 'src')\n",
    "\n",
    "BOSTON_CALENDAR = os.path.join(DATA_RAW, 'boston', 'calendar.csv')\n",
    "BOSTON_LISTINGS = os.path.join(DATA_RAW, 'boston', 'listings.csv')\n",
    "BOSTON_REVIEWS = os.path.join(DATA_RAW, 'boston', 'reviews.csv')\n",
    "\n",
    "BOSTON_LISTINGS_COLS = os.path.join(\n",
    "    DATA_INTERIM, 'boston', 'listings_cols_df.pkl')\n",
    "\n",
    "import sys\n",
    "sys.path.append(SRC_DIR)\n",
    "sys.path.append(os.path.join(SRC_DIR, 'data'))\n",
    "\n",
    "import preprocessing as pp\n",
    "import missing_data as md\n",
    "import utils"
   ]
  },
  {
   "cell_type": "code",
   "execution_count": 3,
   "metadata": {},
   "outputs": [
    {
     "name": "stderr",
     "output_type": "stream",
     "text": [
      "/Users/antelinvestigacionydesarrollo/anaconda3/envs/data/lib/python3.6/site-packages/numpy/lib/nanfunctions.py:907: RuntimeWarning: All-NaN slice encountered\n",
      "  result = np.apply_along_axis(_nanmedian1d, axis, a, overwrite_input)\n"
     ]
    }
   ],
   "source": [
    "calendar, listings, reviews = pp.load_data(city='boston')\n",
    "calendar, listings, reviews = pp.transform_all(calendar,\n",
    "                                               listings,\n",
    "                                               reviews,\n",
    "                                               save_results=True)\n",
    "calendar, listings, reviews = md.fill_missing(calendar,\n",
    "                                              listings,\n",
    "                                              reviews,\n",
    "                                              save_results=True)"
   ]
  },
  {
   "cell_type": "code",
   "execution_count": 5,
   "metadata": {},
   "outputs": [
    {
     "name": "stdout",
     "output_type": "stream",
     "text": [
      "The data has shape: (1308890, 4)\n",
      "\n",
      "There is 0 missing data!\n",
      "\n",
      "   listing_id       date  available  price\n",
      "0    12147973 2017-09-05      False  250.0\n",
      "1    12147973 2017-09-04      False  250.0\n",
      "2    12147973 2017-09-03      False  250.0\n",
      "3    12147973 2017-09-02      False  250.0\n",
      "4    12147973 2017-09-01      False  250.0\n"
     ]
    }
   ],
   "source": [
    "utils.show_data(calendar)"
   ]
  },
  {
   "cell_type": "code",
   "execution_count": 6,
   "metadata": {},
   "outputs": [
    {
     "name": "stdout",
     "output_type": "stream",
     "text": [
      "The data has shape: (3585, 101)\n",
      "\n",
      "There is 15006 missing data!\n",
      "\n",
      "         id                            listing_url       scrape_id  \\\n",
      "0  12147973  https://www.airbnb.com/rooms/12147973  20160906204935   \n",
      "1   3075044   https://www.airbnb.com/rooms/3075044  20160906204935   \n",
      "2      6976      https://www.airbnb.com/rooms/6976  20160906204935   \n",
      "3   1436513   https://www.airbnb.com/rooms/1436513  20160906204935   \n",
      "4   7651065   https://www.airbnb.com/rooms/7651065  20160906204935   \n",
      "\n",
      "  last_scraped                                           name  \\\n",
      "0   2016-09-07                     Sunny Bungalow in the City   \n",
      "1   2016-09-07              Charming room in pet friendly apt   \n",
      "2   2016-09-07               Mexican Folk Art Haven in Boston   \n",
      "3   2016-09-07  Spacious Sunny Bedroom Suite in Historic Home   \n",
      "4   2016-09-07                            Come Home to Boston   \n",
      "\n",
      "                                             summary  \\\n",
      "0  Cozy, sunny, family home.  Master bedroom high...   \n",
      "1  Charming and quiet room in a second floor 1910...   \n",
      "2  Come stay with a friendly, middle-aged guy in ...   \n",
      "3  Come experience the comforts of home away from...   \n",
      "4  My comfy, clean and relaxing home is one block...   \n",
      "\n",
      "                                               space  \\\n",
      "0  The house has an open and cozy feel at the sam...   \n",
      "1  Small but cozy and quite room with a full size...   \n",
      "2  Come stay with a friendly, middle-aged guy in ...   \n",
      "3  Most places you find in Boston are small howev...   \n",
      "4  Clean, attractive, private room, one block fro...   \n",
      "\n",
      "                                         description experiences_offered  \\\n",
      "0  Cozy, sunny, family home.  Master bedroom high...                none   \n",
      "1  Charming and quiet room in a second floor 1910...                none   \n",
      "2  Come stay with a friendly, middle-aged guy in ...                none   \n",
      "3  Come experience the comforts of home away from...                none   \n",
      "4  My comfy, clean and relaxing home is one block...                none   \n",
      "\n",
      "                               neighborhood_overview  \\\n",
      "0  Roslindale is quiet, convenient and friendly. ...   \n",
      "1  The room is in Roslindale, a diverse and prima...   \n",
      "2  The LOCATION: Roslindale is a safe and diverse...   \n",
      "3  Roslindale is a lovely little neighborhood loc...   \n",
      "4  I love the proximity to downtown, the neighbor...   \n",
      "\n",
      "             ...             calculated_host_listings_count reviews_per_month  \\\n",
      "0            ...                                          1          1.970908   \n",
      "1            ...                                          1          1.300000   \n",
      "2            ...                                          1          0.470000   \n",
      "3            ...                                          1          1.000000   \n",
      "4            ...                                          1          2.250000   \n",
      "\n",
      "  review_scores_rating_missing review_scores_accuracy_missing  \\\n",
      "0                            1                              1   \n",
      "1                            0                              0   \n",
      "2                            0                              0   \n",
      "3                            0                              0   \n",
      "4                            0                              0   \n",
      "\n",
      "  review_scores_cleanliness_missing review_scores_checkin_missing  \\\n",
      "0                                 1                             1   \n",
      "1                                 0                             0   \n",
      "2                                 0                             0   \n",
      "3                                 0                             0   \n",
      "4                                 0                             0   \n",
      "\n",
      "  review_scores_communication_missing review_scores_location_missing  \\\n",
      "0                                   1                              1   \n",
      "1                                   0                              0   \n",
      "2                                   0                              0   \n",
      "3                                   0                              0   \n",
      "4                                   0                              0   \n",
      "\n",
      "  review_scores_value_missing  reviews_per_month_missing  \n",
      "0                           1                          1  \n",
      "1                           0                          0  \n",
      "2                           0                          0  \n",
      "3                           0                          0  \n",
      "4                           0                          0  \n",
      "\n",
      "[5 rows x 101 columns]\n"
     ]
    }
   ],
   "source": [
    "utils.show_data(listings)"
   ]
  },
  {
   "cell_type": "code",
   "execution_count": 9,
   "metadata": {},
   "outputs": [
    {
     "data": {
      "text/plain": [
       "has_availability                1.000000\n",
       "neighbourhood_group_cleansed    1.000000\n",
       "jurisdiction_names              1.000000\n",
       "interaction                     0.433473\n",
       "access                          0.415342\n",
       "house_rules                     0.332497\n",
       "market                          0.003905\n",
       "city                            0.000558\n",
       "host_is_superhost               0.000000\n",
       "host_thumbnail_url              0.000000\n",
       "host_picture_url                0.000000\n",
       "host_neighbourhood              0.000000\n",
       "host_listings_count             0.000000\n",
       "host_total_listings_count       0.000000\n",
       "host_verifications              0.000000\n",
       "dtype: float64"
      ]
     },
     "execution_count": 9,
     "metadata": {},
     "output_type": "execute_result"
    }
   ],
   "source": [
    "listings.isnull().mean().sort_values(ascending=False).head(15)"
   ]
  },
  {
   "cell_type": "markdown",
   "metadata": {},
   "source": [
    "Not so bad. market and city can be easily filled. The features that are not in the Seattle dataset can be dropped (to be able to compare). neighbourhood_group_cleansed may be filled with the neighbour values."
   ]
  },
  {
   "cell_type": "code",
   "execution_count": null,
   "metadata": {
    "collapsed": true
   },
   "outputs": [],
   "source": []
  }
 ],
 "metadata": {
  "kernelspec": {
   "display_name": "data",
   "language": "python",
   "name": "data"
  },
  "language_info": {
   "codemirror_mode": {
    "name": "ipython",
    "version": 3
   },
   "file_extension": ".py",
   "mimetype": "text/x-python",
   "name": "python",
   "nbconvert_exporter": "python",
   "pygments_lexer": "ipython3",
   "version": "3.6.5"
  }
 },
 "nbformat": 4,
 "nbformat_minor": 2
}
